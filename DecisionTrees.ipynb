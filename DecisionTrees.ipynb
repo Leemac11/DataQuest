{
 "cells": [
  {
   "cell_type": "markdown",
   "metadata": {
    "collapsed": true
   },
   "source": [
    "Many American cities have communal bike sharing stations where you can rent bicycles by the hour or day. Washington, D.C. is one of these cities. The District collects detailed data on the number of bicycles people rent by the hour and day.\n",
    "\n",
    "Hadi Fanaee-T at the University of Porto compiled this data into a CSV file, which you'll be working with in this project. The file contains 17380 rows, with each row representing the number of bike rentals for a single hour of a single day. You can download the data from the University of California, Irvine's website.\n",
    "\n",
    "In this project, you'll try to predict the total number of bikes people rented in a given hour. You'll predict the cnt column using all of the other columns, except for casual and registered. To accomplish this, you'll create a few different machine learning models and evaluate their performance.\n",
    "\n",
    "Here are the descriptions for the relevant columns:\n",
    "\n",
    "- instant - A unique sequential ID number for each row\n",
    "- dteday - The date of the rentals\n",
    "- season - The season in which the rentals occurred\n",
    "- yr - The year the rentals occurred\n",
    "- mnth - The month the rentals occurred\n",
    "- hr - The hour the rentals occurred\n",
    "- holiday - Whether or not the day was a holiday\n",
    "- weekday - The day of the week (as a number, 0 to 7)\n",
    "- workingday - Whether or not the day was a working day\n",
    "- weathersit - The weather (as a categorical variable)\n",
    "- temp - The temperature, on a 0-1 scale\n",
    "- atemp - The adjusted temperature\n",
    "- hum - The humidity, on a 0-1 scale\n",
    "- windspeed - The wind speed, on a 0-1 scale\n",
    "- casual - The number of casual riders (people who hadn't previously signed up with the bike sharing program)\n",
    "- registered - The number of registered riders (people who had already signed up)\n",
    "- cnt - The total number of bike rentals (casual + registered)"
   ]
  },
  {
   "cell_type": "code",
   "execution_count": 1,
   "metadata": {
    "collapsed": true
   },
   "outputs": [],
   "source": [
    "import numpy as np\n",
    "import pandas as pd\n",
    "\n",
    "bike_rentals =  pd.read_csv(\"bike_rental_hour.csv\")\n"
   ]
  },
  {
   "cell_type": "code",
   "execution_count": 2,
   "metadata": {
    "collapsed": false
   },
   "outputs": [
    {
     "data": {
      "text/html": [
       "<div>\n",
       "<style scoped>\n",
       "    .dataframe tbody tr th:only-of-type {\n",
       "        vertical-align: middle;\n",
       "    }\n",
       "\n",
       "    .dataframe tbody tr th {\n",
       "        vertical-align: top;\n",
       "    }\n",
       "\n",
       "    .dataframe thead th {\n",
       "        text-align: right;\n",
       "    }\n",
       "</style>\n",
       "<table border=\"1\" class=\"dataframe\">\n",
       "  <thead>\n",
       "    <tr style=\"text-align: right;\">\n",
       "      <th></th>\n",
       "      <th>instant</th>\n",
       "      <th>dteday</th>\n",
       "      <th>season</th>\n",
       "      <th>yr</th>\n",
       "      <th>mnth</th>\n",
       "      <th>hr</th>\n",
       "      <th>holiday</th>\n",
       "      <th>weekday</th>\n",
       "      <th>workingday</th>\n",
       "      <th>weathersit</th>\n",
       "      <th>temp</th>\n",
       "      <th>atemp</th>\n",
       "      <th>hum</th>\n",
       "      <th>windspeed</th>\n",
       "      <th>casual</th>\n",
       "      <th>registered</th>\n",
       "      <th>cnt</th>\n",
       "    </tr>\n",
       "  </thead>\n",
       "  <tbody>\n",
       "    <tr>\n",
       "      <th>0</th>\n",
       "      <td>1</td>\n",
       "      <td>2011-01-01</td>\n",
       "      <td>1</td>\n",
       "      <td>0</td>\n",
       "      <td>1</td>\n",
       "      <td>0</td>\n",
       "      <td>0</td>\n",
       "      <td>6</td>\n",
       "      <td>0</td>\n",
       "      <td>1</td>\n",
       "      <td>0.24</td>\n",
       "      <td>0.2879</td>\n",
       "      <td>0.81</td>\n",
       "      <td>0.0</td>\n",
       "      <td>3</td>\n",
       "      <td>13</td>\n",
       "      <td>16</td>\n",
       "    </tr>\n",
       "    <tr>\n",
       "      <th>1</th>\n",
       "      <td>2</td>\n",
       "      <td>2011-01-01</td>\n",
       "      <td>1</td>\n",
       "      <td>0</td>\n",
       "      <td>1</td>\n",
       "      <td>1</td>\n",
       "      <td>0</td>\n",
       "      <td>6</td>\n",
       "      <td>0</td>\n",
       "      <td>1</td>\n",
       "      <td>0.22</td>\n",
       "      <td>0.2727</td>\n",
       "      <td>0.80</td>\n",
       "      <td>0.0</td>\n",
       "      <td>8</td>\n",
       "      <td>32</td>\n",
       "      <td>40</td>\n",
       "    </tr>\n",
       "    <tr>\n",
       "      <th>2</th>\n",
       "      <td>3</td>\n",
       "      <td>2011-01-01</td>\n",
       "      <td>1</td>\n",
       "      <td>0</td>\n",
       "      <td>1</td>\n",
       "      <td>2</td>\n",
       "      <td>0</td>\n",
       "      <td>6</td>\n",
       "      <td>0</td>\n",
       "      <td>1</td>\n",
       "      <td>0.22</td>\n",
       "      <td>0.2727</td>\n",
       "      <td>0.80</td>\n",
       "      <td>0.0</td>\n",
       "      <td>5</td>\n",
       "      <td>27</td>\n",
       "      <td>32</td>\n",
       "    </tr>\n",
       "    <tr>\n",
       "      <th>3</th>\n",
       "      <td>4</td>\n",
       "      <td>2011-01-01</td>\n",
       "      <td>1</td>\n",
       "      <td>0</td>\n",
       "      <td>1</td>\n",
       "      <td>3</td>\n",
       "      <td>0</td>\n",
       "      <td>6</td>\n",
       "      <td>0</td>\n",
       "      <td>1</td>\n",
       "      <td>0.24</td>\n",
       "      <td>0.2879</td>\n",
       "      <td>0.75</td>\n",
       "      <td>0.0</td>\n",
       "      <td>3</td>\n",
       "      <td>10</td>\n",
       "      <td>13</td>\n",
       "    </tr>\n",
       "    <tr>\n",
       "      <th>4</th>\n",
       "      <td>5</td>\n",
       "      <td>2011-01-01</td>\n",
       "      <td>1</td>\n",
       "      <td>0</td>\n",
       "      <td>1</td>\n",
       "      <td>4</td>\n",
       "      <td>0</td>\n",
       "      <td>6</td>\n",
       "      <td>0</td>\n",
       "      <td>1</td>\n",
       "      <td>0.24</td>\n",
       "      <td>0.2879</td>\n",
       "      <td>0.75</td>\n",
       "      <td>0.0</td>\n",
       "      <td>0</td>\n",
       "      <td>1</td>\n",
       "      <td>1</td>\n",
       "    </tr>\n",
       "  </tbody>\n",
       "</table>\n",
       "</div>"
      ],
      "text/plain": [
       "   instant      dteday  season  yr  mnth  hr  holiday  weekday  workingday  \\\n",
       "0        1  2011-01-01       1   0     1   0        0        6           0   \n",
       "1        2  2011-01-01       1   0     1   1        0        6           0   \n",
       "2        3  2011-01-01       1   0     1   2        0        6           0   \n",
       "3        4  2011-01-01       1   0     1   3        0        6           0   \n",
       "4        5  2011-01-01       1   0     1   4        0        6           0   \n",
       "\n",
       "   weathersit  temp   atemp   hum  windspeed  casual  registered  cnt  \n",
       "0           1  0.24  0.2879  0.81        0.0       3          13   16  \n",
       "1           1  0.22  0.2727  0.80        0.0       8          32   40  \n",
       "2           1  0.22  0.2727  0.80        0.0       5          27   32  \n",
       "3           1  0.24  0.2879  0.75        0.0       3          10   13  \n",
       "4           1  0.24  0.2879  0.75        0.0       0           1    1  "
      ]
     },
     "execution_count": 2,
     "metadata": {},
     "output_type": "execute_result"
    }
   ],
   "source": [
    "bike_rentals.head()"
   ]
  },
  {
   "cell_type": "code",
   "execution_count": 3,
   "metadata": {
    "collapsed": true
   },
   "outputs": [],
   "source": [
    "import matplotlib.pyplot as plt\n",
    "%matplotlib inline"
   ]
  },
  {
   "cell_type": "code",
   "execution_count": 4,
   "metadata": {
    "collapsed": false
   },
   "outputs": [
    {
     "data": {
      "text/plain": [
       "<matplotlib.axes._subplots.AxesSubplot at 0x7f633f772fd0>"
      ]
     },
     "execution_count": 4,
     "metadata": {},
     "output_type": "execute_result"
    },
    {
     "data": {
      "image/png": "[encoded data removed]",
      "text/plain": [
       "<matplotlib.figure.Figure at 0x7f633f772860>"
      ]
     },
     "metadata": {},
     "output_type": "display_data"
    }
   ],
   "source": [
    "bike_rentals['cnt'].plot(kind='hist',title='Total daily rental',color='r')"
   ]
  },
  {
   "cell_type": "code",
   "execution_count": 5,
   "metadata": {
    "collapsed": false
   },
   "outputs": [
    {
     "data": {
      "text/plain": [
       "instant       0.278379\n",
       "season        0.178056\n",
       "yr            0.250495\n",
       "mnth          0.120638\n",
       "hr            0.394071\n",
       "holiday      -0.030927\n",
       "weekday       0.026900\n",
       "workingday    0.030284\n",
       "weathersit   -0.142426\n",
       "temp          0.404772\n",
       "atemp         0.400929\n",
       "hum          -0.322911\n",
       "windspeed     0.093234\n",
       "casual        0.694564\n",
       "registered    0.972151\n",
       "cnt           1.000000\n",
       "Name: cnt, dtype: float64"
      ]
     },
     "execution_count": 5,
     "metadata": {},
     "output_type": "execute_result"
    }
   ],
   "source": [
    "corrs = bike_rentals.corr()\n",
    "target_corrs = corrs['cnt']\n",
    "target_corrs"
   ]
  },
  {
   "cell_type": "markdown",
   "metadata": {},
   "source": [
    "temperature correlates quite strongly with the total count which makes sense. \n",
    "\n",
    "The strongest correlation stems from regular user count. Perhaps this indicates that people who use the bikes often make up a far higher percentage of total count than those who just rent them sporadically. We cant use this informatino anyway since it will in effect be cheating."
   ]
  },
  {
   "cell_type": "markdown",
   "metadata": {},
   "source": [
    "the hr column in bike_rentals contains the hours during which bikes are rented, from 1 to 24. A machine will treat each hour differently, without understanding that certain hours are related. We can introduce some order into the process by creating a new column with labels for morning, afternoon, evening, and night. This will bundle similar times together, enabling the model to make better decisions."
   ]
  },
  {
   "cell_type": "code",
   "execution_count": 6,
   "metadata": {
    "collapsed": false
   },
   "outputs": [],
   "source": [
    "#function to assign part of day the bike was rented with numerical labels\n",
    "# 1 = 6am-12pm \n",
    "# 2 = 12pm-6pm\n",
    "# 3 = 6pm-12am\n",
    "# 4 = 12am-6am\n",
    "def assign_label(time):\n",
    "    if (time <= 6):\n",
    "        return 4\n",
    "    elif ((time > 6) & (time <= 12)):\n",
    "        return 1\n",
    "    elif ((time > 12) & (time <= 18)):\n",
    "        return 2\n",
    "    else:\n",
    "        return 3"
   ]
  },
  {
   "cell_type": "code",
   "execution_count": 7,
   "metadata": {
    "collapsed": true
   },
   "outputs": [],
   "source": [
    "bike_rentals['time_label'] = bike_rentals['hr'].apply(assign_label)"
   ]
  },
  {
   "cell_type": "code",
   "execution_count": 8,
   "metadata": {
    "collapsed": false
   },
   "outputs": [
    {
     "data": {
      "text/plain": [
       "4    5001\n",
       "2    4375\n",
       "1    4363\n",
       "3    3640\n",
       "Name: time_label, dtype: int64"
      ]
     },
     "execution_count": 8,
     "metadata": {},
     "output_type": "execute_result"
    }
   ],
   "source": [
    "bike_rentals['time_label'].value_counts(dropna=False)"
   ]
  },
  {
   "cell_type": "markdown",
   "metadata": {},
   "source": [
    "we'll need to ignore the casual and registered columns because cnt is derived from them. If we're trying to predict the number of people who rent bikes in a given hour (cnt), it doesn't make sense that we'd already know casual or registered, because those numbers are added together to get cnt."
   ]
  },
  {
   "cell_type": "code",
   "execution_count": 9,
   "metadata": {
    "collapsed": false
   },
   "outputs": [],
   "source": [
    "#split the dataframe intoo train and test\n",
    "#the training columns. Date is meaningless for linear regression\n",
    "#cnt,casual, registered need to be removed since they reveal information about the target variable\n",
    "predictors = list(bike_rentals.columns)\n",
    "predictors.remove('cnt')\n",
    "predictors.remove('casual')\n",
    "predictors.remove('registered')\n",
    "predictors.remove('dteday')\n",
    "predictors.remove('instant')\n",
    "predictors.remove('hr')\n",
    "\n",
    "#make categeorical weather type data usable\n",
    "#cat 1 = good\n",
    "#cat 2 = ok\n",
    "#cat 3 = bad\n",
    "#cat 4 = very bad\n",
    "\n",
    "bike_rentals_lr = bike_rentals.copy()\n",
    "bike_rentals_lr = pd.get_dummies(bike_rentals_lr,prefix='weather_type', columns=['weathersit'])\n",
    "\n",
    "\n",
    "train = bike_rentals_lr.sample(frac=0.8,axis=0)\n",
    "test = bike_rentals_lr.loc[~bike_rentals_lr.index.isin(train.index)]\n",
    "\n",
    "\n",
    "predictors.remove('weathersit')\n",
    "for i in range(1,5):\n",
    "    string = 'weather_type_{}'.format(i)\n",
    "    predictors.append(string)"
   ]
  },
  {
   "cell_type": "code",
   "execution_count": 10,
   "metadata": {
    "collapsed": false
   },
   "outputs": [
    {
     "data": {
      "text/html": [
       "<div>\n",
       "<style scoped>\n",
       "    .dataframe tbody tr th:only-of-type {\n",
       "        vertical-align: middle;\n",
       "    }\n",
       "\n",
       "    .dataframe tbody tr th {\n",
       "        vertical-align: top;\n",
       "    }\n",
       "\n",
       "    .dataframe thead th {\n",
       "        text-align: right;\n",
       "    }\n",
       "</style>\n",
       "<table border=\"1\" class=\"dataframe\">\n",
       "  <thead>\n",
       "    <tr style=\"text-align: right;\">\n",
       "      <th></th>\n",
       "      <th>instant</th>\n",
       "      <th>dteday</th>\n",
       "      <th>season</th>\n",
       "      <th>yr</th>\n",
       "      <th>mnth</th>\n",
       "      <th>hr</th>\n",
       "      <th>holiday</th>\n",
       "      <th>weekday</th>\n",
       "      <th>workingday</th>\n",
       "      <th>temp</th>\n",
       "      <th>...</th>\n",
       "      <th>hum</th>\n",
       "      <th>windspeed</th>\n",
       "      <th>casual</th>\n",
       "      <th>registered</th>\n",
       "      <th>cnt</th>\n",
       "      <th>time_label</th>\n",
       "      <th>weather_type_1</th>\n",
       "      <th>weather_type_2</th>\n",
       "      <th>weather_type_3</th>\n",
       "      <th>weather_type_4</th>\n",
       "    </tr>\n",
       "  </thead>\n",
       "  <tbody>\n",
       "    <tr>\n",
       "      <th>2092</th>\n",
       "      <td>2093</td>\n",
       "      <td>2011-04-02</td>\n",
       "      <td>2</td>\n",
       "      <td>0</td>\n",
       "      <td>4</td>\n",
       "      <td>1</td>\n",
       "      <td>0</td>\n",
       "      <td>6</td>\n",
       "      <td>0</td>\n",
       "      <td>0.26</td>\n",
       "      <td>...</td>\n",
       "      <td>0.65</td>\n",
       "      <td>0.1343</td>\n",
       "      <td>4</td>\n",
       "      <td>28</td>\n",
       "      <td>32</td>\n",
       "      <td>4</td>\n",
       "      <td>1</td>\n",
       "      <td>0</td>\n",
       "      <td>0</td>\n",
       "      <td>0</td>\n",
       "    </tr>\n",
       "    <tr>\n",
       "      <th>7326</th>\n",
       "      <td>7327</td>\n",
       "      <td>2011-11-06</td>\n",
       "      <td>4</td>\n",
       "      <td>0</td>\n",
       "      <td>11</td>\n",
       "      <td>21</td>\n",
       "      <td>0</td>\n",
       "      <td>0</td>\n",
       "      <td>0</td>\n",
       "      <td>0.36</td>\n",
       "      <td>...</td>\n",
       "      <td>0.81</td>\n",
       "      <td>0.0896</td>\n",
       "      <td>11</td>\n",
       "      <td>77</td>\n",
       "      <td>88</td>\n",
       "      <td>3</td>\n",
       "      <td>1</td>\n",
       "      <td>0</td>\n",
       "      <td>0</td>\n",
       "      <td>0</td>\n",
       "    </tr>\n",
       "    <tr>\n",
       "      <th>291</th>\n",
       "      <td>292</td>\n",
       "      <td>2011-01-13</td>\n",
       "      <td>1</td>\n",
       "      <td>0</td>\n",
       "      <td>1</td>\n",
       "      <td>14</td>\n",
       "      <td>0</td>\n",
       "      <td>4</td>\n",
       "      <td>1</td>\n",
       "      <td>0.22</td>\n",
       "      <td>...</td>\n",
       "      <td>0.41</td>\n",
       "      <td>0.3881</td>\n",
       "      <td>3</td>\n",
       "      <td>39</td>\n",
       "      <td>42</td>\n",
       "      <td>2</td>\n",
       "      <td>1</td>\n",
       "      <td>0</td>\n",
       "      <td>0</td>\n",
       "      <td>0</td>\n",
       "    </tr>\n",
       "    <tr>\n",
       "      <th>14559</th>\n",
       "      <td>14560</td>\n",
       "      <td>2012-09-03</td>\n",
       "      <td>3</td>\n",
       "      <td>1</td>\n",
       "      <td>9</td>\n",
       "      <td>20</td>\n",
       "      <td>1</td>\n",
       "      <td>1</td>\n",
       "      <td>0</td>\n",
       "      <td>0.72</td>\n",
       "      <td>...</td>\n",
       "      <td>0.76</td>\n",
       "      <td>0.1045</td>\n",
       "      <td>78</td>\n",
       "      <td>183</td>\n",
       "      <td>261</td>\n",
       "      <td>3</td>\n",
       "      <td>1</td>\n",
       "      <td>0</td>\n",
       "      <td>0</td>\n",
       "      <td>0</td>\n",
       "    </tr>\n",
       "    <tr>\n",
       "      <th>12328</th>\n",
       "      <td>12329</td>\n",
       "      <td>2012-06-02</td>\n",
       "      <td>2</td>\n",
       "      <td>1</td>\n",
       "      <td>6</td>\n",
       "      <td>21</td>\n",
       "      <td>0</td>\n",
       "      <td>6</td>\n",
       "      <td>0</td>\n",
       "      <td>0.60</td>\n",
       "      <td>...</td>\n",
       "      <td>0.40</td>\n",
       "      <td>0.1045</td>\n",
       "      <td>96</td>\n",
       "      <td>220</td>\n",
       "      <td>316</td>\n",
       "      <td>3</td>\n",
       "      <td>1</td>\n",
       "      <td>0</td>\n",
       "      <td>0</td>\n",
       "      <td>0</td>\n",
       "    </tr>\n",
       "  </tbody>\n",
       "</table>\n",
       "<p>5 rows × 21 columns</p>\n",
       "</div>"
      ],
      "text/plain": [
       "       instant      dteday  season  yr  mnth  hr  holiday  weekday  \\\n",
       "2092      2093  2011-04-02       2   0     4   1        0        6   \n",
       "7326      7327  2011-11-06       4   0    11  21        0        0   \n",
       "291        292  2011-01-13       1   0     1  14        0        4   \n",
       "14559    14560  2012-09-03       3   1     9  20        1        1   \n",
       "12328    12329  2012-06-02       2   1     6  21        0        6   \n",
       "\n",
       "       workingday  temp       ...         hum  windspeed  casual  registered  \\\n",
       "2092            0  0.26       ...        0.65     0.1343       4          28   \n",
       "7326            0  0.36       ...        0.81     0.0896      11          77   \n",
       "291             1  0.22       ...        0.41     0.3881       3          39   \n",
       "14559           0  0.72       ...        0.76     0.1045      78         183   \n",
       "12328           0  0.60       ...        0.40     0.1045      96         220   \n",
       "\n",
       "       cnt  time_label  weather_type_1  weather_type_2  weather_type_3  \\\n",
       "2092    32           4               1               0               0   \n",
       "7326    88           3               1               0               0   \n",
       "291     42           2               1               0               0   \n",
       "14559  261           3               1               0               0   \n",
       "12328  316           3               1               0               0   \n",
       "\n",
       "       weather_type_4  \n",
       "2092                0  \n",
       "7326                0  \n",
       "291                 0  \n",
       "14559               0  \n",
       "12328               0  \n",
       "\n",
       "[5 rows x 21 columns]"
      ]
     },
     "execution_count": 10,
     "metadata": {},
     "output_type": "execute_result"
    }
   ],
   "source": [
    "train.head()"
   ]
  },
  {
   "cell_type": "code",
   "execution_count": 11,
   "metadata": {
    "collapsed": false
   },
   "outputs": [
    {
     "name": "stdout",
     "output_type": "stream",
     "text": [
      "<class 'pandas.core.frame.DataFrame'>\n",
      "Int64Index: 13903 entries, 2092 to 11468\n",
      "Data columns (total 21 columns):\n",
      "instant           13903 non-null int64\n",
      "dteday            13903 non-null object\n",
      "season            13903 non-null int64\n",
      "yr                13903 non-null int64\n",
      "mnth              13903 non-null int64\n",
      "hr                13903 non-null int64\n",
      "holiday           13903 non-null int64\n",
      "weekday           13903 non-null int64\n",
      "workingday        13903 non-null int64\n",
      "temp              13903 non-null float64\n",
      "atemp             13903 non-null float64\n",
      "hum               13903 non-null float64\n",
      "windspeed         13903 non-null float64\n",
      "casual            13903 non-null int64\n",
      "registered        13903 non-null int64\n",
      "cnt               13903 non-null int64\n",
      "time_label        13903 non-null int64\n",
      "weather_type_1    13903 non-null uint8\n",
      "weather_type_2    13903 non-null uint8\n",
      "weather_type_3    13903 non-null uint8\n",
      "weather_type_4    13903 non-null uint8\n",
      "dtypes: float64(4), int64(12), object(1), uint8(4)\n",
      "memory usage: 2.0+ MB\n"
     ]
    }
   ],
   "source": [
    "train.info()"
   ]
  },
  {
   "cell_type": "code",
   "execution_count": 12,
   "metadata": {
    "collapsed": true
   },
   "outputs": [],
   "source": [
    "from sklearn.linear_model import LinearRegression\n",
    "from sklearn.metrics import mean_squared_error"
   ]
  },
  {
   "cell_type": "code",
   "execution_count": 13,
   "metadata": {
    "collapsed": false
   },
   "outputs": [],
   "source": [
    "lr = LinearRegression()\n",
    "lr.fit(train[predictors],train['cnt'])\n",
    "predictions = lr.predict(test[predictors])\n",
    "mse = mean_squared_error(predictions, test['cnt'])\n",
    "rmse = mse**0.5"
   ]
  },
  {
   "cell_type": "code",
   "execution_count": 14,
   "metadata": {
    "collapsed": false
   },
   "outputs": [
    {
     "data": {
      "text/plain": [
       "131.03481658176733"
      ]
     },
     "execution_count": 14,
     "metadata": {},
     "output_type": "execute_result"
    }
   ],
   "source": [
    "rmse"
   ]
  },
  {
   "cell_type": "code",
   "execution_count": 15,
   "metadata": {
    "collapsed": false
   },
   "outputs": [
    {
     "name": "stdout",
     "output_type": "stream",
     "text": [
      "13488\n",
      "3891\n"
     ]
    }
   ],
   "source": [
    "data_below_300_counts = len(bike_rentals[bike_rentals['cnt'] <= 300])\n",
    "data_above_300_counts = len(bike_rentals) - data_below_300_counts\n",
    "print(data_below_300_counts)\n",
    "print(data_above_300_counts)"
   ]
  },
  {
   "cell_type": "markdown",
   "metadata": {
    "collapsed": false
   },
   "source": [
    "The majority of our data has 'cnt' values within the range of 0-300. An error of 131 is not good at all considering this. That said, there is almost 4000 instaces with 'cnt' values  between 300 and 1000. The large error could be explained because of the use of error metric. Like variance, mean squared error has the disadvantage of heavily weighting outliers. This is a result of the squaring of each term, which effectively weights large errors more heavily than small ones."
   ]
  },
  {
   "cell_type": "markdown",
   "metadata": {
    "collapsed": true
   },
   "source": [
    "# Decision Tree\n",
    "\n",
    "Now we're ready to apply the decision tree algorithm. we'll be able to compare its error with the error from linear regression, which will enable us to pick the right algorithm for this data set.\n",
    "\n",
    "Decision trees tend to predict outcomes much more reliably than linear regression models. Because a decision tree is a fairly complex model, it also tends to overfit, particularly when we don't tweak parameters like maximum depth and minimum number of samples per leaf. Decision trees are also prone to instability -- small changes in the input data can result in a very different output model."
   ]
  },
  {
   "cell_type": "code",
   "execution_count": 16,
   "metadata": {
    "collapsed": true
   },
   "outputs": [],
   "source": [
    "from sklearn.tree import DecisionTreeClassifier"
   ]
  },
  {
   "cell_type": "code",
   "execution_count": 17,
   "metadata": {
    "collapsed": false,
    "scrolled": true
   },
   "outputs": [
    {
     "name": "stdout",
     "output_type": "stream",
     "text": [
      "90.9123412825143\n",
      "\n"
     ]
    }
   ],
   "source": [
    "#we dont need to one-hot encode the categorical data to use it with DTree\n",
    "bike_rentals_dt = bike_rentals.copy()\n",
    "predictors = list(bike_rentals.columns)\n",
    "predictors.remove('cnt')\n",
    "predictors.remove('casual')\n",
    "predictors.remove('registered')\n",
    "predictors.remove('dteday')\n",
    "predictors.remove('instant')\n",
    "\n",
    "\n",
    "\n",
    "train = bike_rentals_dt.sample(frac=0.8,axis=0)\n",
    "test = bike_rentals_dt.loc[~bike_rentals_dt.index.isin(train.index)]\n",
    "\n",
    "\n",
    "dt = DecisionTreeClassifier(min_samples_leaf=2)\n",
    "dt.fit(train[predictors], train['cnt'])\n",
    "predictions = dt.predict(test[predictors])\n",
    "mse = mean_squared_error(predictions, test['cnt'])\n",
    "rmse = mse**0.5\n",
    "print(rmse)\n",
    "print('')"
   ]
  },
  {
   "cell_type": "code",
   "execution_count": 18,
   "metadata": {
    "collapsed": false
   },
   "outputs": [],
   "source": [
    "#from IPython.display import Image\n",
    "#from sklearn import tree\n",
    "\n",
    "#text_representation = tree.export_text(dt)\n",
    "#print(text_representation)"
   ]
  },
  {
   "cell_type": "markdown",
   "metadata": {},
   "source": [
    "Decision tree works much better with the default hyperparameters than linear regression. Lets experiment with a few different values for hyperparameters to see if we can improve on this"
   ]
  },
  {
   "cell_type": "code",
   "execution_count": 19,
   "metadata": {
    "collapsed": false
   },
   "outputs": [],
   "source": [
    "import numpy as np \n",
    "max_depths = [None] + list(np.arange(1,50))\n",
    "min_samples_splits = list(np.arange(2,10))\n"
   ]
  },
  {
   "cell_type": "code",
   "execution_count": 20,
   "metadata": {
    "collapsed": false
   },
   "outputs": [
    {
     "name": "stdout",
     "output_type": "stream",
     "text": [
      "best combination is:\n",
      " depth = 36\n",
      " min_sample_split = 2\n",
      " which acheieves an rmse of 83.1287129179347\n"
     ]
    }
   ],
   "source": [
    "best_depth = None\n",
    "best_min_sample_split = 2\n",
    "best_error = rmse\n",
    "for depth in max_depths:\n",
    "    for min_sample_split_size in min_samples_splits:\n",
    "        dt = DecisionTreeClassifier(min_samples_leaf=min_sample_split_size, max_depth=depth)\n",
    "        dt.fit(train[predictors], train['cnt'])\n",
    "        predictions = dt.predict(test[predictors])\n",
    "        mse = mean_squared_error(predictions, test['cnt'])\n",
    "        rmse = mse**0.5\n",
    "        if rmse < best_error:\n",
    "            best_depth = depth\n",
    "            best_min_sample_split = min_sample_split_size\n",
    "            best_error = rmse\n",
    "print('best combination is:\\n depth = {}\\n min_sample_split = {}\\n which acheieves an rmse of {}'.format(best_depth,best_min_sample_split,best_error))\n",
    "        "
   ]
  },
  {
   "cell_type": "markdown",
   "metadata": {
    "collapsed": false
   },
   "source": [
    "# Hyperparameters \n",
    "By tuning the hyperparameters regarding depth and the minimum amount of data we need to warrant a split, we've reduced the error by around 6. "
   ]
  },
  {
   "cell_type": "markdown",
   "metadata": {
    "collapsed": false
   },
   "source": [
    "# Random Forests"
   ]
  },
  {
   "cell_type": "code",
   "execution_count": 21,
   "metadata": {
    "collapsed": false
   },
   "outputs": [],
   "source": [
    "from sklearn.ensemble import RandomForestRegressor"
   ]
  },
  {
   "cell_type": "code",
   "execution_count": 22,
   "metadata": {
    "collapsed": false
   },
   "outputs": [
    {
     "data": {
      "text/plain": [
       "matrix([[1, 1, 0, ..., 0, 0, 0],\n",
       "        [1, 0, 0, ..., 0, 0, 0]])"
      ]
     },
     "execution_count": 22,
     "metadata": {},
     "output_type": "execute_result"
    }
   ],
   "source": [
    "dt.decision_path(test[predictors].iloc[0:2]).todense()"
   ]
  },
  {
   "cell_type": "code",
   "execution_count": 23,
   "metadata": {
    "collapsed": false
   },
   "outputs": [],
   "source": [
    "best_min_sample_split = 2\n",
    "best_error = rmse\n",
    "#how many trees do we want in our forests\n",
    "forest_sizes = [2,5,20,30,50,100]\n",
    "\n",
    "rmses = pd.DataFrame(columns=['trees_in_forest','best_rmse','minimum_split_size'])\n",
    "\n",
    "for forest_size in forest_sizes:\n",
    "    #first combination, assiign to best initilally \n",
    "    rf = RandomForestRegressor(n_estimators = forest_size, min_samples_leaf=min_samples_splits[0])\n",
    "    rf.fit(train[predictors], train['cnt'])\n",
    "    predictions = rf.predict(test[predictors])\n",
    "    mse = mean_squared_error(predictions, test['cnt'])\n",
    "    rmse = mse**0.5\n",
    "    forest_best_rmse = rmse\n",
    "    forest_best_min_split = min_samples_splits[0]\n",
    "    #now compare to other combinations\n",
    "    for i in range(1,len(min_samples_splits)):\n",
    "        rf = RandomForestRegressor(n_estimators = forest_size,min_samples_leaf= min_samples_splits[i])\n",
    "        rf.fit(train[predictors], train['cnt'])\n",
    "        predictions = rf.predict(test[predictors])\n",
    "        mse = mean_squared_error(predictions, test['cnt'])\n",
    "        rmse = mse**0.5\n",
    "        \n",
    "        #the best rmse over all trees/split_size combos\n",
    "        if(rmse < forest_best_rmse):\n",
    "            forest_best_rmse = rmse\n",
    "            forest_best_min_split = min_samples_splits[i]\n",
    "    \n",
    "    row = [int(forest_size),forest_best_rmse,int(forest_best_min_split)]         \n",
    "    rmses.loc[len(rmses)] = row  \n",
    "        "
   ]
  },
  {
   "cell_type": "markdown",
   "metadata": {
    "collapsed": false
   },
   "source": [
    " Using a combination of trees in a random forest, we significantly reduced our error."
   ]
  },
  {
   "cell_type": "code",
   "execution_count": 24,
   "metadata": {
    "collapsed": false
   },
   "outputs": [
    {
     "data": {
      "text/html": [
       "<div>\n",
       "<style scoped>\n",
       "    .dataframe tbody tr th:only-of-type {\n",
       "        vertical-align: middle;\n",
       "    }\n",
       "\n",
       "    .dataframe tbody tr th {\n",
       "        vertical-align: top;\n",
       "    }\n",
       "\n",
       "    .dataframe thead th {\n",
       "        text-align: right;\n",
       "    }\n",
       "</style>\n",
       "<table border=\"1\" class=\"dataframe\">\n",
       "  <thead>\n",
       "    <tr style=\"text-align: right;\">\n",
       "      <th></th>\n",
       "      <th>trees_in_forest</th>\n",
       "      <th>best_rmse</th>\n",
       "      <th>minimum_split_size</th>\n",
       "    </tr>\n",
       "  </thead>\n",
       "  <tbody>\n",
       "    <tr>\n",
       "      <th>0</th>\n",
       "      <td>2.0</td>\n",
       "      <td>50.931613</td>\n",
       "      <td>2.0</td>\n",
       "    </tr>\n",
       "    <tr>\n",
       "      <th>1</th>\n",
       "      <td>5.0</td>\n",
       "      <td>45.715654</td>\n",
       "      <td>2.0</td>\n",
       "    </tr>\n",
       "    <tr>\n",
       "      <th>2</th>\n",
       "      <td>20.0</td>\n",
       "      <td>43.080446</td>\n",
       "      <td>2.0</td>\n",
       "    </tr>\n",
       "    <tr>\n",
       "      <th>3</th>\n",
       "      <td>30.0</td>\n",
       "      <td>42.487576</td>\n",
       "      <td>2.0</td>\n",
       "    </tr>\n",
       "    <tr>\n",
       "      <th>4</th>\n",
       "      <td>50.0</td>\n",
       "      <td>42.075501</td>\n",
       "      <td>2.0</td>\n",
       "    </tr>\n",
       "    <tr>\n",
       "      <th>5</th>\n",
       "      <td>100.0</td>\n",
       "      <td>42.022943</td>\n",
       "      <td>2.0</td>\n",
       "    </tr>\n",
       "  </tbody>\n",
       "</table>\n",
       "</div>"
      ],
      "text/plain": [
       "   trees_in_forest  best_rmse  minimum_split_size\n",
       "0              2.0  50.931613                 2.0\n",
       "1              5.0  45.715654                 2.0\n",
       "2             20.0  43.080446                 2.0\n",
       "3             30.0  42.487576                 2.0\n",
       "4             50.0  42.075501                 2.0\n",
       "5            100.0  42.022943                 2.0"
      ]
     },
     "execution_count": 24,
     "metadata": {},
     "output_type": "execute_result"
    }
   ],
   "source": [
    "rmses"
   ]
  },
  {
   "cell_type": "code",
   "execution_count": 25,
   "metadata": {
    "collapsed": true
   },
   "outputs": [],
   "source": [
    "import seaborn as sns; sns.set()\n",
    "import matplotlib.pyplot as plt\n",
    "%matplotlib inline"
   ]
  },
  {
   "cell_type": "code",
   "execution_count": 26,
   "metadata": {
    "collapsed": false
   },
   "outputs": [
    {
     "data": {
      "text/plain": [
       "<seaborn.axisgrid.FacetGrid at 0x7f6331f846d8>"
      ]
     },
     "execution_count": 26,
     "metadata": {},
     "output_type": "execute_result"
    },
    {
     "data": {
      "image/png": "[encoded data removed]",
      "text/plain": [
       "<matplotlib.figure.Figure at 0x7f6331f849b0>"
      ]
     },
     "metadata": {},
     "output_type": "display_data"
    }
   ],
   "source": [
    "\n",
    "sns.lmplot(x=\"trees_in_forest\", y=\"best_rmse\", hue=\"minimum_split_size\",data=rmses,\n",
    "          fit_reg=False,palette=['red','green'])"
   ]
  },
  {
   "cell_type": "code",
   "execution_count": null,
   "metadata": {
    "collapsed": true
   },
   "outputs": [],
   "source": []
  }
 ],
 "metadata": {
  "kernelspec": {
   "display_name": "Python 3",
   "language": "python",
   "name": "python3"
  },
  "language_info": {
   "codemirror_mode": {
    "name": "ipython",
    "version": 3
   },
   "file_extension": ".py",
   "mimetype": "text/x-python",
   "name": "python",
   "nbconvert_exporter": "python",
   "pygments_lexer": "ipython3",
   "version": "3.4.3"
  }
 },
 "nbformat": 4,
 "nbformat_minor": 0
}
