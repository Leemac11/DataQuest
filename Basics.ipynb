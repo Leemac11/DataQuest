{
 "cells": [
  {
   "cell_type": "markdown",
   "metadata": {},
   "source": [
    "# Marketing e-learning platform\n",
    "\n",
    "we're working for an an e-learning company that offers courses on programming. Most of our courses are on web and mobile development, but we also cover many other domains, like data science, game development, etc. We want to promote our product and we'd like to invest some money in advertisement. Our goal in this project is to find out the two best markets to advertise our product in."
   ]
  },
  {
   "cell_type": "code",
   "execution_count": 1,
   "metadata": {
    "collapsed": true
   },
   "outputs": [],
   "source": [
    "import pandas as pd"
   ]
  },
  {
   "cell_type": "code",
   "execution_count": 2,
   "metadata": {
    "collapsed": false
   },
   "outputs": [
    {
     "name": "stderr",
     "output_type": "stream",
     "text": [
      "/dataquest/system/env/python3/lib/python3.4/site-packages/IPython/core/interactiveshell.py:2723: DtypeWarning: Columns (17,62) have mixed types. Specify dtype option on import or set low_memory=False.\n",
      "  interactivity=interactivity, compiler=compiler, result=result)\n"
     ]
    },
    {
     "data": {
      "text/plain": [
       "(18175, 136)"
      ]
     },
     "execution_count": 2,
     "metadata": {},
     "output_type": "execute_result"
    }
   ],
   "source": [
    "survey_data = pd.read_csv('2017-fCC-New-Coders-Survey-Data.csv')\n",
    "survey_data.shape"
   ]
  },
  {
   "cell_type": "code",
   "execution_count": 3,
   "metadata": {
    "collapsed": false
   },
   "outputs": [
    {
     "data": {
      "text/html": [
       "<div>\n",
       "<style scoped>\n",
       "    .dataframe tbody tr th:only-of-type {\n",
       "        vertical-align: middle;\n",
       "    }\n",
       "\n",
       "    .dataframe tbody tr th {\n",
       "        vertical-align: top;\n",
       "    }\n",
       "\n",
       "    .dataframe thead th {\n",
       "        text-align: right;\n",
       "    }\n",
       "</style>\n",
       "<table border=\"1\" class=\"dataframe\">\n",
       "  <thead>\n",
       "    <tr style=\"text-align: right;\">\n",
       "      <th></th>\n",
       "      <th>Age</th>\n",
       "      <th>AttendedBootcamp</th>\n",
       "      <th>BootcampFinish</th>\n",
       "      <th>BootcampLoanYesNo</th>\n",
       "      <th>BootcampName</th>\n",
       "      <th>BootcampRecommend</th>\n",
       "      <th>ChildrenNumber</th>\n",
       "      <th>CityPopulation</th>\n",
       "      <th>CodeEventConferences</th>\n",
       "      <th>CodeEventDjangoGirls</th>\n",
       "      <th>...</th>\n",
       "      <th>YouTubeFCC</th>\n",
       "      <th>YouTubeFunFunFunction</th>\n",
       "      <th>YouTubeGoogleDev</th>\n",
       "      <th>YouTubeLearnCode</th>\n",
       "      <th>YouTubeLevelUpTuts</th>\n",
       "      <th>YouTubeMIT</th>\n",
       "      <th>YouTubeMozillaHacks</th>\n",
       "      <th>YouTubeOther</th>\n",
       "      <th>YouTubeSimplilearn</th>\n",
       "      <th>YouTubeTheNewBoston</th>\n",
       "    </tr>\n",
       "  </thead>\n",
       "  <tbody>\n",
       "    <tr>\n",
       "      <th>0</th>\n",
       "      <td>27.0</td>\n",
       "      <td>0.0</td>\n",
       "      <td>NaN</td>\n",
       "      <td>NaN</td>\n",
       "      <td>NaN</td>\n",
       "      <td>NaN</td>\n",
       "      <td>NaN</td>\n",
       "      <td>more than 1 million</td>\n",
       "      <td>NaN</td>\n",
       "      <td>NaN</td>\n",
       "      <td>...</td>\n",
       "      <td>NaN</td>\n",
       "      <td>NaN</td>\n",
       "      <td>NaN</td>\n",
       "      <td>NaN</td>\n",
       "      <td>NaN</td>\n",
       "      <td>NaN</td>\n",
       "      <td>NaN</td>\n",
       "      <td>NaN</td>\n",
       "      <td>NaN</td>\n",
       "      <td>NaN</td>\n",
       "    </tr>\n",
       "    <tr>\n",
       "      <th>1</th>\n",
       "      <td>34.0</td>\n",
       "      <td>0.0</td>\n",
       "      <td>NaN</td>\n",
       "      <td>NaN</td>\n",
       "      <td>NaN</td>\n",
       "      <td>NaN</td>\n",
       "      <td>NaN</td>\n",
       "      <td>less than 100,000</td>\n",
       "      <td>NaN</td>\n",
       "      <td>NaN</td>\n",
       "      <td>...</td>\n",
       "      <td>1.0</td>\n",
       "      <td>NaN</td>\n",
       "      <td>NaN</td>\n",
       "      <td>NaN</td>\n",
       "      <td>NaN</td>\n",
       "      <td>NaN</td>\n",
       "      <td>NaN</td>\n",
       "      <td>NaN</td>\n",
       "      <td>NaN</td>\n",
       "      <td>NaN</td>\n",
       "    </tr>\n",
       "    <tr>\n",
       "      <th>2</th>\n",
       "      <td>21.0</td>\n",
       "      <td>0.0</td>\n",
       "      <td>NaN</td>\n",
       "      <td>NaN</td>\n",
       "      <td>NaN</td>\n",
       "      <td>NaN</td>\n",
       "      <td>NaN</td>\n",
       "      <td>more than 1 million</td>\n",
       "      <td>NaN</td>\n",
       "      <td>NaN</td>\n",
       "      <td>...</td>\n",
       "      <td>NaN</td>\n",
       "      <td>NaN</td>\n",
       "      <td>NaN</td>\n",
       "      <td>1.0</td>\n",
       "      <td>1.0</td>\n",
       "      <td>NaN</td>\n",
       "      <td>NaN</td>\n",
       "      <td>NaN</td>\n",
       "      <td>NaN</td>\n",
       "      <td>NaN</td>\n",
       "    </tr>\n",
       "    <tr>\n",
       "      <th>3</th>\n",
       "      <td>26.0</td>\n",
       "      <td>0.0</td>\n",
       "      <td>NaN</td>\n",
       "      <td>NaN</td>\n",
       "      <td>NaN</td>\n",
       "      <td>NaN</td>\n",
       "      <td>NaN</td>\n",
       "      <td>between 100,000 and 1 million</td>\n",
       "      <td>NaN</td>\n",
       "      <td>NaN</td>\n",
       "      <td>...</td>\n",
       "      <td>1.0</td>\n",
       "      <td>1.0</td>\n",
       "      <td>NaN</td>\n",
       "      <td>NaN</td>\n",
       "      <td>1.0</td>\n",
       "      <td>NaN</td>\n",
       "      <td>NaN</td>\n",
       "      <td>NaN</td>\n",
       "      <td>NaN</td>\n",
       "      <td>NaN</td>\n",
       "    </tr>\n",
       "    <tr>\n",
       "      <th>4</th>\n",
       "      <td>20.0</td>\n",
       "      <td>0.0</td>\n",
       "      <td>NaN</td>\n",
       "      <td>NaN</td>\n",
       "      <td>NaN</td>\n",
       "      <td>NaN</td>\n",
       "      <td>NaN</td>\n",
       "      <td>between 100,000 and 1 million</td>\n",
       "      <td>NaN</td>\n",
       "      <td>NaN</td>\n",
       "      <td>...</td>\n",
       "      <td>NaN</td>\n",
       "      <td>NaN</td>\n",
       "      <td>NaN</td>\n",
       "      <td>NaN</td>\n",
       "      <td>NaN</td>\n",
       "      <td>NaN</td>\n",
       "      <td>NaN</td>\n",
       "      <td>NaN</td>\n",
       "      <td>NaN</td>\n",
       "      <td>NaN</td>\n",
       "    </tr>\n",
       "  </tbody>\n",
       "</table>\n",
       "<p>5 rows × 136 columns</p>\n",
       "</div>"
      ],
      "text/plain": [
       "    Age  AttendedBootcamp  BootcampFinish  BootcampLoanYesNo BootcampName  \\\n",
       "0  27.0               0.0             NaN                NaN          NaN   \n",
       "1  34.0               0.0             NaN                NaN          NaN   \n",
       "2  21.0               0.0             NaN                NaN          NaN   \n",
       "3  26.0               0.0             NaN                NaN          NaN   \n",
       "4  20.0               0.0             NaN                NaN          NaN   \n",
       "\n",
       "   BootcampRecommend  ChildrenNumber                 CityPopulation  \\\n",
       "0                NaN             NaN            more than 1 million   \n",
       "1                NaN             NaN              less than 100,000   \n",
       "2                NaN             NaN            more than 1 million   \n",
       "3                NaN             NaN  between 100,000 and 1 million   \n",
       "4                NaN             NaN  between 100,000 and 1 million   \n",
       "\n",
       "   CodeEventConferences  CodeEventDjangoGirls         ...           \\\n",
       "0                   NaN                   NaN         ...            \n",
       "1                   NaN                   NaN         ...            \n",
       "2                   NaN                   NaN         ...            \n",
       "3                   NaN                   NaN         ...            \n",
       "4                   NaN                   NaN         ...            \n",
       "\n",
       "   YouTubeFCC  YouTubeFunFunFunction  YouTubeGoogleDev  YouTubeLearnCode  \\\n",
       "0         NaN                    NaN               NaN               NaN   \n",
       "1         1.0                    NaN               NaN               NaN   \n",
       "2         NaN                    NaN               NaN               1.0   \n",
       "3         1.0                    1.0               NaN               NaN   \n",
       "4         NaN                    NaN               NaN               NaN   \n",
       "\n",
       "   YouTubeLevelUpTuts  YouTubeMIT  YouTubeMozillaHacks YouTubeOther  \\\n",
       "0                 NaN         NaN                  NaN          NaN   \n",
       "1                 NaN         NaN                  NaN          NaN   \n",
       "2                 1.0         NaN                  NaN          NaN   \n",
       "3                 1.0         NaN                  NaN          NaN   \n",
       "4                 NaN         NaN                  NaN          NaN   \n",
       "\n",
       "   YouTubeSimplilearn  YouTubeTheNewBoston  \n",
       "0                 NaN                  NaN  \n",
       "1                 NaN                  NaN  \n",
       "2                 NaN                  NaN  \n",
       "3                 NaN                  NaN  \n",
       "4                 NaN                  NaN  \n",
       "\n",
       "[5 rows x 136 columns]"
      ]
     },
     "execution_count": 3,
     "metadata": {},
     "output_type": "execute_result"
    }
   ],
   "source": [
    "survey_data.head(5)"
   ]
  },
  {
   "cell_type": "code",
   "execution_count": 4,
   "metadata": {
    "collapsed": false
   },
   "outputs": [
    {
     "data": {
      "text/plain": [
       "Index(['Age', 'AttendedBootcamp', 'BootcampFinish', 'BootcampLoanYesNo',\n",
       "       'BootcampName', 'BootcampRecommend', 'ChildrenNumber', 'CityPopulation',\n",
       "       'CodeEventConferences', 'CodeEventDjangoGirls',\n",
       "       ...\n",
       "       'YouTubeFCC', 'YouTubeFunFunFunction', 'YouTubeGoogleDev',\n",
       "       'YouTubeLearnCode', 'YouTubeLevelUpTuts', 'YouTubeMIT',\n",
       "       'YouTubeMozillaHacks', 'YouTubeOther', 'YouTubeSimplilearn',\n",
       "       'YouTubeTheNewBoston'],\n",
       "      dtype='object', length=136)"
      ]
     },
     "execution_count": 4,
     "metadata": {},
     "output_type": "execute_result"
    }
   ],
   "source": [
    "survey_data.columns"
   ]
  },
  {
   "cell_type": "markdown",
   "metadata": {},
   "source": [
    "# The data\n",
    "We are making use of some data already collected in a survey by a reputable source which has a large enough fanbase to give us a good insight into the question we wish to answer. The dataset we will use can be found here https://github.com/freeCodeCamp/2017-new-coder-survey\n",
    "\n",
    "Most of the columns of our dataframe appear to be checkbox responses, with 1.0 representing something the person has participated in or is interested in. The columns vary from academic subjects to youtube channels/resources with some more ordinal, nominal data appearing in the first few columns."
   ]
  },
  {
   "cell_type": "code",
   "execution_count": 5,
   "metadata": {
    "collapsed": true
   },
   "outputs": [],
   "source": [
    "import matplotlib.pyplot as plt\n",
    "%matplotlib inline"
   ]
  },
  {
   "cell_type": "code",
   "execution_count": 6,
   "metadata": {
    "collapsed": false
   },
   "outputs": [],
   "source": [
    "job_interest_percentages = survey_data['JobRoleInterest'].value_counts(normalize=True)*100"
   ]
  },
  {
   "cell_type": "code",
   "execution_count": 7,
   "metadata": {
    "collapsed": false
   },
   "outputs": [
    {
     "data": {
      "text/plain": [
       "(3213,)"
      ]
     },
     "execution_count": 7,
     "metadata": {},
     "output_type": "execute_result"
    }
   ],
   "source": [
    "job_interest_percentages.shape"
   ]
  },
  {
   "cell_type": "code",
   "execution_count": null,
   "metadata": {
    "collapsed": false
   },
   "outputs": [],
   "source": []
  },
  {
   "cell_type": "code",
   "execution_count": 8,
   "metadata": {
    "collapsed": true
   },
   "outputs": [],
   "source": [
    "table = pd.DataFrame(job_interest_percentages)"
   ]
  },
  {
   "cell_type": "code",
   "execution_count": 9,
   "metadata": {
    "collapsed": false
   },
   "outputs": [
    {
     "data": {
      "text/html": [
       "<div>\n",
       "<style scoped>\n",
       "    .dataframe tbody tr th:only-of-type {\n",
       "        vertical-align: middle;\n",
       "    }\n",
       "\n",
       "    .dataframe tbody tr th {\n",
       "        vertical-align: top;\n",
       "    }\n",
       "\n",
       "    .dataframe thead th {\n",
       "        text-align: right;\n",
       "    }\n",
       "</style>\n",
       "<table border=\"1\" class=\"dataframe\">\n",
       "  <thead>\n",
       "    <tr style=\"text-align: right;\">\n",
       "      <th></th>\n",
       "      <th>JobRoleInterest</th>\n",
       "    </tr>\n",
       "  </thead>\n",
       "  <tbody>\n",
       "    <tr>\n",
       "      <th>Full-Stack Web Developer</th>\n",
       "      <td>11.770595</td>\n",
       "    </tr>\n",
       "    <tr>\n",
       "      <th>Front-End Web Developer</th>\n",
       "      <td>6.435927</td>\n",
       "    </tr>\n",
       "    <tr>\n",
       "      <th>Data Scientist</th>\n",
       "      <td>2.173913</td>\n",
       "    </tr>\n",
       "    <tr>\n",
       "      <th>Back-End Web Developer</th>\n",
       "      <td>2.030892</td>\n",
       "    </tr>\n",
       "    <tr>\n",
       "      <th>Mobile Developer</th>\n",
       "      <td>1.673341</td>\n",
       "    </tr>\n",
       "    <tr>\n",
       "      <th>Game Developer</th>\n",
       "      <td>1.630435</td>\n",
       "    </tr>\n",
       "    <tr>\n",
       "      <th>Information Security</th>\n",
       "      <td>1.315789</td>\n",
       "    </tr>\n",
       "    <tr>\n",
       "      <th>Full-Stack Web Developer,   Front-End Web Developer</th>\n",
       "      <td>0.915332</td>\n",
       "    </tr>\n",
       "    <tr>\n",
       "      <th>Front-End Web Developer, Full-Stack Web Developer</th>\n",
       "      <td>0.800915</td>\n",
       "    </tr>\n",
       "    <tr>\n",
       "      <th>Product Manager</th>\n",
       "      <td>0.786613</td>\n",
       "    </tr>\n",
       "    <tr>\n",
       "      <th>Data Engineer</th>\n",
       "      <td>0.758009</td>\n",
       "    </tr>\n",
       "    <tr>\n",
       "      <th>User Experience Designer</th>\n",
       "      <td>0.743707</td>\n",
       "    </tr>\n",
       "    <tr>\n",
       "      <th>User Experience Designer,   Front-End Web Developer</th>\n",
       "      <td>0.614989</td>\n",
       "    </tr>\n",
       "    <tr>\n",
       "      <th>Front-End Web Developer, Back-End Web Developer, Full-Stack Web Developer</th>\n",
       "      <td>0.557780</td>\n",
       "    </tr>\n",
       "    <tr>\n",
       "      <th>Back-End Web Developer, Full-Stack Web Developer,   Front-End Web Developer</th>\n",
       "      <td>0.514874</td>\n",
       "    </tr>\n",
       "    <tr>\n",
       "      <th>Back-End Web Developer,   Front-End Web Developer, Full-Stack Web Developer</th>\n",
       "      <td>0.514874</td>\n",
       "    </tr>\n",
       "    <tr>\n",
       "      <th>DevOps / SysAdmin</th>\n",
       "      <td>0.514874</td>\n",
       "    </tr>\n",
       "    <tr>\n",
       "      <th>Full-Stack Web Developer,   Front-End Web Developer, Back-End Web Developer</th>\n",
       "      <td>0.443364</td>\n",
       "    </tr>\n",
       "    <tr>\n",
       "      <th>Front-End Web Developer, Full-Stack Web Developer, Back-End Web Developer</th>\n",
       "      <td>0.429062</td>\n",
       "    </tr>\n",
       "    <tr>\n",
       "      <th>Full-Stack Web Developer,   Mobile Developer</th>\n",
       "      <td>0.414760</td>\n",
       "    </tr>\n",
       "    <tr>\n",
       "      <th>Front-End Web Developer,   User Experience Designer</th>\n",
       "      <td>0.414760</td>\n",
       "    </tr>\n",
       "    <tr>\n",
       "      <th>Back-End Web Developer, Full-Stack Web Developer</th>\n",
       "      <td>0.386156</td>\n",
       "    </tr>\n",
       "    <tr>\n",
       "      <th>Full-Stack Web Developer, Back-End Web Developer</th>\n",
       "      <td>0.371854</td>\n",
       "    </tr>\n",
       "    <tr>\n",
       "      <th>Back-End Web Developer,   Front-End Web Developer</th>\n",
       "      <td>0.286041</td>\n",
       "    </tr>\n",
       "    <tr>\n",
       "      <th>Full-Stack Web Developer, Back-End Web Developer,   Front-End Web Developer</th>\n",
       "      <td>0.271739</td>\n",
       "    </tr>\n",
       "    <tr>\n",
       "      <th>Data Engineer,   Data Scientist</th>\n",
       "      <td>0.271739</td>\n",
       "    </tr>\n",
       "    <tr>\n",
       "      <th>Front-End Web Developer,   Mobile Developer</th>\n",
       "      <td>0.257437</td>\n",
       "    </tr>\n",
       "    <tr>\n",
       "      <th>Full-Stack Web Developer,   Data Scientist</th>\n",
       "      <td>0.243135</td>\n",
       "    </tr>\n",
       "    <tr>\n",
       "      <th>Mobile Developer, Game Developer</th>\n",
       "      <td>0.228833</td>\n",
       "    </tr>\n",
       "    <tr>\n",
       "      <th>Data Scientist, Data Engineer</th>\n",
       "      <td>0.228833</td>\n",
       "    </tr>\n",
       "    <tr>\n",
       "      <th>...</th>\n",
       "      <td>...</td>\n",
       "    </tr>\n",
       "    <tr>\n",
       "      <th>Front-End Web Developer,   Data Scientist,   Mobile Developer, Data Engineer, Full-Stack Web Developer,   User Experience Designer</th>\n",
       "      <td>0.014302</td>\n",
       "    </tr>\n",
       "    <tr>\n",
       "      <th>Product Manager,   Mobile Developer, Back-End Web Developer,   Front-End Web Developer,   Quality Assurance Engineer</th>\n",
       "      <td>0.014302</td>\n",
       "    </tr>\n",
       "    <tr>\n",
       "      <th>Information Security,   Product Manager,   DevOps / SysAdmin,   Data Scientist</th>\n",
       "      <td>0.014302</td>\n",
       "    </tr>\n",
       "    <tr>\n",
       "      <th>User Experience Designer,   Mobile Developer, Full-Stack Web Developer,   Front-End Web Developer, Game Developer</th>\n",
       "      <td>0.014302</td>\n",
       "    </tr>\n",
       "    <tr>\n",
       "      <th>Data Scientist, Information Security,   Mobile Developer</th>\n",
       "      <td>0.014302</td>\n",
       "    </tr>\n",
       "    <tr>\n",
       "      <th>User Experience Designer,   Mobile Developer, Full-Stack Web Developer,   Front-End Web Developer,   DevOps / SysAdmin, Information Security</th>\n",
       "      <td>0.014302</td>\n",
       "    </tr>\n",
       "    <tr>\n",
       "      <th>Mobile Developer,   User Experience Designer, Back-End Web Developer,   Front-End Web Developer, Game Developer</th>\n",
       "      <td>0.014302</td>\n",
       "    </tr>\n",
       "    <tr>\n",
       "      <th>User Experience Designer, Full-Stack Web Developer,   Mobile Developer, Game Developer,   Product Manager,   Front-End Web Developer</th>\n",
       "      <td>0.014302</td>\n",
       "    </tr>\n",
       "    <tr>\n",
       "      <th>Back-End Web Developer, Information Security,   DevOps / SysAdmin, Full-Stack Web Developer</th>\n",
       "      <td>0.014302</td>\n",
       "    </tr>\n",
       "    <tr>\n",
       "      <th>Non technical</th>\n",
       "      <td>0.014302</td>\n",
       "    </tr>\n",
       "    <tr>\n",
       "      <th>Information Security, Back-End Web Developer, Full-Stack Web Developer, Game Developer,   Front-End Web Developer,   Mobile Developer</th>\n",
       "      <td>0.014302</td>\n",
       "    </tr>\n",
       "    <tr>\n",
       "      <th>Mobile Developer,   Data Scientist, Data Engineer, Back-End Web Developer, Full-Stack Web Developer,   User Experience Designer</th>\n",
       "      <td>0.014302</td>\n",
       "    </tr>\n",
       "    <tr>\n",
       "      <th>Back-End Web Developer,   Product Manager, Data Engineer, Game Developer,   Quality Assurance Engineer,   Data Scientist, Full-Stack Web Developer,   DevOps / SysAdmin</th>\n",
       "      <td>0.014302</td>\n",
       "    </tr>\n",
       "    <tr>\n",
       "      <th>Data Engineer,   Mobile Developer,   Product Manager,   Front-End Web Developer, Game Developer, Back-End Web Developer, Full-Stack Web Developer,   Data Scientist</th>\n",
       "      <td>0.014302</td>\n",
       "    </tr>\n",
       "    <tr>\n",
       "      <th>Front-End Web Developer, Game Developer, Full-Stack Web Developer,   DevOps / SysAdmin,   Quality Assurance Engineer,   Mobile Developer</th>\n",
       "      <td>0.014302</td>\n",
       "    </tr>\n",
       "    <tr>\n",
       "      <th>DevOps / SysAdmin,   Front-End Web Developer,   Mobile Developer, Full-Stack Web Developer</th>\n",
       "      <td>0.014302</td>\n",
       "    </tr>\n",
       "    <tr>\n",
       "      <th>Quality Assurance Engineer,   Mobile Developer,   Front-End Web Developer, Back-End Web Developer,   DevOps / SysAdmin,   Product Manager, Full-Stack Web Developer</th>\n",
       "      <td>0.014302</td>\n",
       "    </tr>\n",
       "    <tr>\n",
       "      <th>Mobile Developer,   User Experience Designer,   Front-End Web Developer,   Product Manager,   Quality Assurance Engineer,   Data Scientist</th>\n",
       "      <td>0.014302</td>\n",
       "    </tr>\n",
       "    <tr>\n",
       "      <th>Back-End Web Developer, Information Security,   Product Manager,   User Experience Designer,   Quality Assurance Engineer,   DevOps / SysAdmin,   Front-End Web Developer, Full-Stack Web Developer</th>\n",
       "      <td>0.014302</td>\n",
       "    </tr>\n",
       "    <tr>\n",
       "      <th>Mobile Developer,   Product Manager,   Data Scientist,   DevOps / SysAdmin</th>\n",
       "      <td>0.014302</td>\n",
       "    </tr>\n",
       "    <tr>\n",
       "      <th>Mobile Developer,   Front-End Web Developer, Back-End Web Developer, Game Developer, Full-Stack Web Developer</th>\n",
       "      <td>0.014302</td>\n",
       "    </tr>\n",
       "    <tr>\n",
       "      <th>Full-Stack Web Developer, Information Security,   Mobile Developer</th>\n",
       "      <td>0.014302</td>\n",
       "    </tr>\n",
       "    <tr>\n",
       "      <th>Full-Stack Web Developer, Back-End Web Developer,   User Experience Designer,   Front-End Web Developer, Game Developer</th>\n",
       "      <td>0.014302</td>\n",
       "    </tr>\n",
       "    <tr>\n",
       "      <th>Front-End Web Developer, Data Engineer,   Product Manager, Full-Stack Web Developer, Back-End Web Developer,   Mobile Developer,   Quality Assurance Engineer,   Data Scientist</th>\n",
       "      <td>0.014302</td>\n",
       "    </tr>\n",
       "    <tr>\n",
       "      <th>Back-End Web Developer, Data Engineer, Full-Stack Web Developer,   Front-End Web Developer,   User Experience Designer</th>\n",
       "      <td>0.014302</td>\n",
       "    </tr>\n",
       "    <tr>\n",
       "      <th>Product Manager, Back-End Web Developer,   DevOps / SysAdmin,   Front-End Web Developer,   Quality Assurance Engineer,   Data Scientist, Information Security, Full-Stack Web Developer</th>\n",
       "      <td>0.014302</td>\n",
       "    </tr>\n",
       "    <tr>\n",
       "      <th>Data Engineer, Back-End Web Developer, Full-Stack Web Developer, Information Security, Game Developer,   Data Scientist</th>\n",
       "      <td>0.014302</td>\n",
       "    </tr>\n",
       "    <tr>\n",
       "      <th>Full-Stack Web Developer, Data Engineer, Information Security,   User Experience Designer,   Mobile Developer, Back-End Web Developer,   Front-End Web Developer</th>\n",
       "      <td>0.014302</td>\n",
       "    </tr>\n",
       "    <tr>\n",
       "      <th>Product Manager, Game Developer, Data Engineer,   User Experience Designer, Full-Stack Web Developer,   Data Scientist</th>\n",
       "      <td>0.014302</td>\n",
       "    </tr>\n",
       "    <tr>\n",
       "      <th>Back-End Web Developer, Full-Stack Web Developer,   Front-End Web Developer,   User Experience Designer,   DevOps / SysAdmin</th>\n",
       "      <td>0.014302</td>\n",
       "    </tr>\n",
       "  </tbody>\n",
       "</table>\n",
       "<p>3213 rows × 1 columns</p>\n",
       "</div>"
      ],
      "text/plain": [
       "                                                    JobRoleInterest\n",
       "Full-Stack Web Developer                                  11.770595\n",
       "  Front-End Web Developer                                  6.435927\n",
       "  Data Scientist                                           2.173913\n",
       "Back-End Web Developer                                     2.030892\n",
       "  Mobile Developer                                         1.673341\n",
       "Game Developer                                             1.630435\n",
       "Information Security                                       1.315789\n",
       "Full-Stack Web Developer,   Front-End Web Devel...         0.915332\n",
       "  Front-End Web Developer, Full-Stack Web Devel...         0.800915\n",
       "  Product Manager                                          0.786613\n",
       "Data Engineer                                              0.758009\n",
       "  User Experience Designer                                 0.743707\n",
       "  User Experience Designer,   Front-End Web Dev...         0.614989\n",
       "  Front-End Web Developer, Back-End Web Develop...         0.557780\n",
       "Back-End Web Developer, Full-Stack Web Develope...         0.514874\n",
       "Back-End Web Developer,   Front-End Web Develop...         0.514874\n",
       "  DevOps / SysAdmin                                        0.514874\n",
       "Full-Stack Web Developer,   Front-End Web Devel...         0.443364\n",
       "  Front-End Web Developer, Full-Stack Web Devel...         0.429062\n",
       "Full-Stack Web Developer,   Mobile Developer               0.414760\n",
       "  Front-End Web Developer,   User Experience De...         0.414760\n",
       "Back-End Web Developer, Full-Stack Web Developer           0.386156\n",
       "Full-Stack Web Developer, Back-End Web Developer           0.371854\n",
       "Back-End Web Developer,   Front-End Web Developer          0.286041\n",
       "Full-Stack Web Developer, Back-End Web Develope...         0.271739\n",
       "Data Engineer,   Data Scientist                            0.271739\n",
       "  Front-End Web Developer,   Mobile Developer              0.257437\n",
       "Full-Stack Web Developer,   Data Scientist                 0.243135\n",
       "  Mobile Developer, Game Developer                         0.228833\n",
       "  Data Scientist, Data Engineer                            0.228833\n",
       "...                                                             ...\n",
       "  Front-End Web Developer,   Data Scientist,   ...         0.014302\n",
       "  Product Manager,   Mobile Developer, Back-End...         0.014302\n",
       "Information Security,   Product Manager,   DevO...         0.014302\n",
       "  User Experience Designer,   Mobile Developer,...         0.014302\n",
       "  Data Scientist, Information Security,   Mobil...         0.014302\n",
       "  User Experience Designer,   Mobile Developer,...         0.014302\n",
       "  Mobile Developer,   User Experience Designer,...         0.014302\n",
       "  User Experience Designer, Full-Stack Web Deve...         0.014302\n",
       "Back-End Web Developer, Information Security,  ...         0.014302\n",
       "Non technical                                              0.014302\n",
       "Information Security, Back-End Web Developer, F...         0.014302\n",
       "  Mobile Developer,   Data Scientist, Data Engi...         0.014302\n",
       "Back-End Web Developer,   Product Manager, Data...         0.014302\n",
       "Data Engineer,   Mobile Developer,   Product Ma...         0.014302\n",
       "  Front-End Web Developer, Game Developer, Full...         0.014302\n",
       "  DevOps / SysAdmin,   Front-End Web Developer,...         0.014302\n",
       "  Quality Assurance Engineer,   Mobile Develope...         0.014302\n",
       "  Mobile Developer,   User Experience Designer,...         0.014302\n",
       "Back-End Web Developer, Information Security,  ...         0.014302\n",
       "  Mobile Developer,   Product Manager,   Data S...         0.014302\n",
       "  Mobile Developer,   Front-End Web Developer, ...         0.014302\n",
       "Full-Stack Web Developer, Information Security,...         0.014302\n",
       "Full-Stack Web Developer, Back-End Web Develope...         0.014302\n",
       "  Front-End Web Developer, Data Engineer,   Pro...         0.014302\n",
       "Back-End Web Developer, Data Engineer, Full-Sta...         0.014302\n",
       "  Product Manager, Back-End Web Developer,   De...         0.014302\n",
       "Data Engineer, Back-End Web Developer, Full-Sta...         0.014302\n",
       "Full-Stack Web Developer, Data Engineer, Inform...         0.014302\n",
       "  Product Manager, Game Developer, Data Enginee...         0.014302\n",
       "Back-End Web Developer, Full-Stack Web Develope...         0.014302\n",
       "\n",
       "[3213 rows x 1 columns]"
      ]
     },
     "execution_count": 9,
     "metadata": {},
     "output_type": "execute_result"
    }
   ],
   "source": [
    "#frequency distrubution of job interests\n",
    "table"
   ]
  },
  {
   "cell_type": "markdown",
   "metadata": {},
   "source": [
    "People can choose more than one interest. As the table shows, Full stack web development is the most popular choice. The focus of our courses is on web and mobile development. How many people are interested in at least one of these two subjects?"
   ]
  },
  {
   "cell_type": "code",
   "execution_count": 10,
   "metadata": {
    "collapsed": false
   },
   "outputs": [],
   "source": [
    "web_dev = table.groupby(by=table.index.str.contains('Web Developer')).sum()\n",
    "web_dev = table.rename(columns={'JobRoleInterest':'Interested in Web Dev'})"
   ]
  },
  {
   "cell_type": "markdown",
   "metadata": {
    "collapsed": false
   },
   "source": [
    "web_dev.plot.pie(figsize=(11,11), y='Interested in Web Dev', autopct='%1.1f%%', \n",
    "                 colors=['red','white'],\n",
    "                 startangle= -90, textprops={'fontsize': 18})\n",
    "plt.ylabel('Web Dev interest', size = 30)\n",
    "plt.xticks(size=100)\n",
    "plt.show()"
   ]
  },
  {
   "cell_type": "code",
   "execution_count": 11,
   "metadata": {
    "collapsed": true
   },
   "outputs": [],
   "source": [
    "#lets work with arrays of interests and drop the respondents who have none\n",
    "split_interests = survey_data['JobRoleInterest'].copy().dropna()\n",
    "split_interests = split_interests.str.split(',')"
   ]
  },
  {
   "cell_type": "code",
   "execution_count": 12,
   "metadata": {
    "collapsed": false
   },
   "outputs": [],
   "source": [
    "number_of_interests = split_interests.apply(lambda x: len(x))"
   ]
  },
  {
   "cell_type": "code",
   "execution_count": 13,
   "metadata": {
    "collapsed": false
   },
   "outputs": [
    {
     "data": {
      "text/plain": [
       "1     31.650458\n",
       "3     15.889588\n",
       "4     15.217391\n",
       "5     12.042334\n",
       "2     10.883867\n",
       "6      6.721968\n",
       "7      3.861556\n",
       "8      1.759153\n",
       "9      0.986842\n",
       "10     0.471968\n",
       "12     0.300343\n",
       "11     0.185927\n",
       "13     0.028604\n",
       "Name: JobRoleInterest, dtype: float64"
      ]
     },
     "execution_count": 13,
     "metadata": {},
     "output_type": "execute_result"
    }
   ],
   "source": [
    "number_of_interests.value_counts(normalize=True)*100"
   ]
  },
  {
   "cell_type": "markdown",
   "metadata": {},
   "source": [
    "We can see almost 70% of respondents have more than 1 interest"
   ]
  },
  {
   "cell_type": "code",
   "execution_count": null,
   "metadata": {
    "collapsed": false
   },
   "outputs": [],
   "source": []
  },
  {
   "cell_type": "code",
   "execution_count": null,
   "metadata": {
    "collapsed": false
   },
   "outputs": [],
   "source": []
  },
  {
   "cell_type": "code",
   "execution_count": 14,
   "metadata": {
    "collapsed": false
   },
   "outputs": [],
   "source": [
    "web_mobile_dev = survey_data['JobRoleInterest'].dropna().str.contains('Web Developer|Mobile Developer')"
   ]
  },
  {
   "cell_type": "code",
   "execution_count": 15,
   "metadata": {
    "collapsed": false
   },
   "outputs": [
    {
     "data": {
      "image/png": "[encoded data removed]",
      "text/plain": [
       "<matplotlib.figure.Figure at 0x7f6f212619e8>"
      ]
     },
     "metadata": {},
     "output_type": "display_data"
    }
   ],
   "source": [
    "freq = web_mobile_dev.value_counts(normalize=True)\n",
    "plt.style.use('fivethirtyeight')\n",
    "freq.plot.bar(figsize=(7,7))\n",
    "plt.title('Respondents Interested in Web dev or Mobile Dev', y=1.1)\n",
    "plt.ylabel('Percentage', fontsize=11, x=0.1)\n",
    "plt.xticks([0,1],['Web/Mobile dev', 'other subjects'], rotation=0)\n",
    "plt.show()\n",
    "\n"
   ]
  },
  {
   "cell_type": "markdown",
   "metadata": {},
   "source": [
    "Most respondents (~85%) are interested in atleast one of mobile or web development which is good news for us since they are the courses we offer."
   ]
  },
  {
   "cell_type": "markdown",
   "metadata": {
    "collapsed": false
   },
   "source": [
    "# Where to market our courses\n",
    "We can see there are plenty of people likely to be interested in learning about our courses. We now need to find the two best locations to advertise in. \n",
    "\n",
    "we'll work with the CountryLive variable because we're interested where people actually live at the moment when we run the ads\n",
    "\n",
    "To make sure you're working with a representative sample, we drop all the rows where participants didn't answer what role they are interested in. Where a participant didn't respond, we can't know for sure what their interests are, so it's better if we leave out this category of participants."
   ]
  },
  {
   "cell_type": "code",
   "execution_count": 16,
   "metadata": {
    "collapsed": true
   },
   "outputs": [],
   "source": [
    "non_nulls = survey_data.dropna(subset=['JobRoleInterest']).copy()"
   ]
  },
  {
   "cell_type": "code",
   "execution_count": 17,
   "metadata": {
    "collapsed": false
   },
   "outputs": [],
   "source": [
    "abs_freq = non_nulls['CountryLive'].value_counts()\n",
    "rel_freq = non_nulls['CountryLive'].value_counts(normalize=True)*100"
   ]
  },
  {
   "cell_type": "code",
   "execution_count": 18,
   "metadata": {
    "collapsed": false
   },
   "outputs": [
    {
     "data": {
      "text/html": [
       "<div>\n",
       "<style scoped>\n",
       "    .dataframe tbody tr th:only-of-type {\n",
       "        vertical-align: middle;\n",
       "    }\n",
       "\n",
       "    .dataframe tbody tr th {\n",
       "        vertical-align: top;\n",
       "    }\n",
       "\n",
       "    .dataframe thead th {\n",
       "        text-align: right;\n",
       "    }\n",
       "</style>\n",
       "<table border=\"1\" class=\"dataframe\">\n",
       "  <thead>\n",
       "    <tr style=\"text-align: right;\">\n",
       "      <th></th>\n",
       "      <th>Absolute frequency</th>\n",
       "      <th>Percentage</th>\n",
       "    </tr>\n",
       "  </thead>\n",
       "  <tbody>\n",
       "    <tr>\n",
       "      <th>United States of America</th>\n",
       "      <td>3125</td>\n",
       "      <td>45.700497</td>\n",
       "    </tr>\n",
       "    <tr>\n",
       "      <th>India</th>\n",
       "      <td>528</td>\n",
       "      <td>7.721556</td>\n",
       "    </tr>\n",
       "    <tr>\n",
       "      <th>United Kingdom</th>\n",
       "      <td>315</td>\n",
       "      <td>4.606610</td>\n",
       "    </tr>\n",
       "    <tr>\n",
       "      <th>Canada</th>\n",
       "      <td>260</td>\n",
       "      <td>3.802281</td>\n",
       "    </tr>\n",
       "    <tr>\n",
       "      <th>Poland</th>\n",
       "      <td>131</td>\n",
       "      <td>1.915765</td>\n",
       "    </tr>\n",
       "    <tr>\n",
       "      <th>Brazil</th>\n",
       "      <td>129</td>\n",
       "      <td>1.886517</td>\n",
       "    </tr>\n",
       "    <tr>\n",
       "      <th>Germany</th>\n",
       "      <td>125</td>\n",
       "      <td>1.828020</td>\n",
       "    </tr>\n",
       "    <tr>\n",
       "      <th>Australia</th>\n",
       "      <td>112</td>\n",
       "      <td>1.637906</td>\n",
       "    </tr>\n",
       "    <tr>\n",
       "      <th>Russia</th>\n",
       "      <td>102</td>\n",
       "      <td>1.491664</td>\n",
       "    </tr>\n",
       "    <tr>\n",
       "      <th>Ukraine</th>\n",
       "      <td>89</td>\n",
       "      <td>1.301550</td>\n",
       "    </tr>\n",
       "    <tr>\n",
       "      <th>Nigeria</th>\n",
       "      <td>84</td>\n",
       "      <td>1.228429</td>\n",
       "    </tr>\n",
       "    <tr>\n",
       "      <th>Spain</th>\n",
       "      <td>77</td>\n",
       "      <td>1.126060</td>\n",
       "    </tr>\n",
       "    <tr>\n",
       "      <th>France</th>\n",
       "      <td>75</td>\n",
       "      <td>1.096812</td>\n",
       "    </tr>\n",
       "    <tr>\n",
       "      <th>Romania</th>\n",
       "      <td>71</td>\n",
       "      <td>1.038315</td>\n",
       "    </tr>\n",
       "    <tr>\n",
       "      <th>Netherlands (Holland, Europe)</th>\n",
       "      <td>65</td>\n",
       "      <td>0.950570</td>\n",
       "    </tr>\n",
       "    <tr>\n",
       "      <th>Italy</th>\n",
       "      <td>62</td>\n",
       "      <td>0.906698</td>\n",
       "    </tr>\n",
       "    <tr>\n",
       "      <th>Serbia</th>\n",
       "      <td>52</td>\n",
       "      <td>0.760456</td>\n",
       "    </tr>\n",
       "    <tr>\n",
       "      <th>Philippines</th>\n",
       "      <td>52</td>\n",
       "      <td>0.760456</td>\n",
       "    </tr>\n",
       "    <tr>\n",
       "      <th>Greece</th>\n",
       "      <td>46</td>\n",
       "      <td>0.672711</td>\n",
       "    </tr>\n",
       "    <tr>\n",
       "      <th>Ireland</th>\n",
       "      <td>43</td>\n",
       "      <td>0.628839</td>\n",
       "    </tr>\n",
       "    <tr>\n",
       "      <th>South Africa</th>\n",
       "      <td>39</td>\n",
       "      <td>0.570342</td>\n",
       "    </tr>\n",
       "    <tr>\n",
       "      <th>Mexico</th>\n",
       "      <td>37</td>\n",
       "      <td>0.541094</td>\n",
       "    </tr>\n",
       "    <tr>\n",
       "      <th>Turkey</th>\n",
       "      <td>36</td>\n",
       "      <td>0.526470</td>\n",
       "    </tr>\n",
       "    <tr>\n",
       "      <th>Singapore</th>\n",
       "      <td>34</td>\n",
       "      <td>0.497221</td>\n",
       "    </tr>\n",
       "    <tr>\n",
       "      <th>Hungary</th>\n",
       "      <td>34</td>\n",
       "      <td>0.497221</td>\n",
       "    </tr>\n",
       "    <tr>\n",
       "      <th>New Zealand</th>\n",
       "      <td>33</td>\n",
       "      <td>0.482597</td>\n",
       "    </tr>\n",
       "    <tr>\n",
       "      <th>Croatia</th>\n",
       "      <td>32</td>\n",
       "      <td>0.467973</td>\n",
       "    </tr>\n",
       "    <tr>\n",
       "      <th>Argentina</th>\n",
       "      <td>32</td>\n",
       "      <td>0.467973</td>\n",
       "    </tr>\n",
       "    <tr>\n",
       "      <th>Pakistan</th>\n",
       "      <td>31</td>\n",
       "      <td>0.453349</td>\n",
       "    </tr>\n",
       "    <tr>\n",
       "      <th>Sweden</th>\n",
       "      <td>31</td>\n",
       "      <td>0.453349</td>\n",
       "    </tr>\n",
       "    <tr>\n",
       "      <th>...</th>\n",
       "      <td>...</td>\n",
       "      <td>...</td>\n",
       "    </tr>\n",
       "    <tr>\n",
       "      <th>Cuba</th>\n",
       "      <td>1</td>\n",
       "      <td>0.014624</td>\n",
       "    </tr>\n",
       "    <tr>\n",
       "      <th>Myanmar</th>\n",
       "      <td>1</td>\n",
       "      <td>0.014624</td>\n",
       "    </tr>\n",
       "    <tr>\n",
       "      <th>Turkmenistan</th>\n",
       "      <td>1</td>\n",
       "      <td>0.014624</td>\n",
       "    </tr>\n",
       "    <tr>\n",
       "      <th>Guatemala</th>\n",
       "      <td>1</td>\n",
       "      <td>0.014624</td>\n",
       "    </tr>\n",
       "    <tr>\n",
       "      <th>Cayman Islands</th>\n",
       "      <td>1</td>\n",
       "      <td>0.014624</td>\n",
       "    </tr>\n",
       "    <tr>\n",
       "      <th>Panama</th>\n",
       "      <td>1</td>\n",
       "      <td>0.014624</td>\n",
       "    </tr>\n",
       "    <tr>\n",
       "      <th>Nicaragua</th>\n",
       "      <td>1</td>\n",
       "      <td>0.014624</td>\n",
       "    </tr>\n",
       "    <tr>\n",
       "      <th>Bolivia</th>\n",
       "      <td>1</td>\n",
       "      <td>0.014624</td>\n",
       "    </tr>\n",
       "    <tr>\n",
       "      <th>Yemen</th>\n",
       "      <td>1</td>\n",
       "      <td>0.014624</td>\n",
       "    </tr>\n",
       "    <tr>\n",
       "      <th>Rwanda</th>\n",
       "      <td>1</td>\n",
       "      <td>0.014624</td>\n",
       "    </tr>\n",
       "    <tr>\n",
       "      <th>Vanuatu</th>\n",
       "      <td>1</td>\n",
       "      <td>0.014624</td>\n",
       "    </tr>\n",
       "    <tr>\n",
       "      <th>Liberia</th>\n",
       "      <td>1</td>\n",
       "      <td>0.014624</td>\n",
       "    </tr>\n",
       "    <tr>\n",
       "      <th>Papua New Guinea</th>\n",
       "      <td>1</td>\n",
       "      <td>0.014624</td>\n",
       "    </tr>\n",
       "    <tr>\n",
       "      <th>Aruba</th>\n",
       "      <td>1</td>\n",
       "      <td>0.014624</td>\n",
       "    </tr>\n",
       "    <tr>\n",
       "      <th>Gambia</th>\n",
       "      <td>1</td>\n",
       "      <td>0.014624</td>\n",
       "    </tr>\n",
       "    <tr>\n",
       "      <th>Somalia</th>\n",
       "      <td>1</td>\n",
       "      <td>0.014624</td>\n",
       "    </tr>\n",
       "    <tr>\n",
       "      <th>Jordan</th>\n",
       "      <td>1</td>\n",
       "      <td>0.014624</td>\n",
       "    </tr>\n",
       "    <tr>\n",
       "      <th>Nambia</th>\n",
       "      <td>1</td>\n",
       "      <td>0.014624</td>\n",
       "    </tr>\n",
       "    <tr>\n",
       "      <th>Channel Islands</th>\n",
       "      <td>1</td>\n",
       "      <td>0.014624</td>\n",
       "    </tr>\n",
       "    <tr>\n",
       "      <th>Sudan</th>\n",
       "      <td>1</td>\n",
       "      <td>0.014624</td>\n",
       "    </tr>\n",
       "    <tr>\n",
       "      <th>Kyrgyzstan</th>\n",
       "      <td>1</td>\n",
       "      <td>0.014624</td>\n",
       "    </tr>\n",
       "    <tr>\n",
       "      <th>Anguilla</th>\n",
       "      <td>1</td>\n",
       "      <td>0.014624</td>\n",
       "    </tr>\n",
       "    <tr>\n",
       "      <th>Botswana</th>\n",
       "      <td>1</td>\n",
       "      <td>0.014624</td>\n",
       "    </tr>\n",
       "    <tr>\n",
       "      <th>Cameroon</th>\n",
       "      <td>1</td>\n",
       "      <td>0.014624</td>\n",
       "    </tr>\n",
       "    <tr>\n",
       "      <th>Gibraltar</th>\n",
       "      <td>1</td>\n",
       "      <td>0.014624</td>\n",
       "    </tr>\n",
       "    <tr>\n",
       "      <th>Qatar</th>\n",
       "      <td>1</td>\n",
       "      <td>0.014624</td>\n",
       "    </tr>\n",
       "    <tr>\n",
       "      <th>Samoa</th>\n",
       "      <td>1</td>\n",
       "      <td>0.014624</td>\n",
       "    </tr>\n",
       "    <tr>\n",
       "      <th>Angola</th>\n",
       "      <td>1</td>\n",
       "      <td>0.014624</td>\n",
       "    </tr>\n",
       "    <tr>\n",
       "      <th>Guadeloupe</th>\n",
       "      <td>1</td>\n",
       "      <td>0.014624</td>\n",
       "    </tr>\n",
       "    <tr>\n",
       "      <th>Trinidad &amp; Tobago</th>\n",
       "      <td>1</td>\n",
       "      <td>0.014624</td>\n",
       "    </tr>\n",
       "  </tbody>\n",
       "</table>\n",
       "<p>137 rows × 2 columns</p>\n",
       "</div>"
      ],
      "text/plain": [
       "                               Absolute frequency  Percentage\n",
       "United States of America                     3125   45.700497\n",
       "India                                         528    7.721556\n",
       "United Kingdom                                315    4.606610\n",
       "Canada                                        260    3.802281\n",
       "Poland                                        131    1.915765\n",
       "Brazil                                        129    1.886517\n",
       "Germany                                       125    1.828020\n",
       "Australia                                     112    1.637906\n",
       "Russia                                        102    1.491664\n",
       "Ukraine                                        89    1.301550\n",
       "Nigeria                                        84    1.228429\n",
       "Spain                                          77    1.126060\n",
       "France                                         75    1.096812\n",
       "Romania                                        71    1.038315\n",
       "Netherlands (Holland, Europe)                  65    0.950570\n",
       "Italy                                          62    0.906698\n",
       "Serbia                                         52    0.760456\n",
       "Philippines                                    52    0.760456\n",
       "Greece                                         46    0.672711\n",
       "Ireland                                        43    0.628839\n",
       "South Africa                                   39    0.570342\n",
       "Mexico                                         37    0.541094\n",
       "Turkey                                         36    0.526470\n",
       "Singapore                                      34    0.497221\n",
       "Hungary                                        34    0.497221\n",
       "New Zealand                                    33    0.482597\n",
       "Croatia                                        32    0.467973\n",
       "Argentina                                      32    0.467973\n",
       "Pakistan                                       31    0.453349\n",
       "Sweden                                         31    0.453349\n",
       "...                                           ...         ...\n",
       "Cuba                                            1    0.014624\n",
       "Myanmar                                         1    0.014624\n",
       "Turkmenistan                                    1    0.014624\n",
       "Guatemala                                       1    0.014624\n",
       "Cayman Islands                                  1    0.014624\n",
       "Panama                                          1    0.014624\n",
       "Nicaragua                                       1    0.014624\n",
       "Bolivia                                         1    0.014624\n",
       "Yemen                                           1    0.014624\n",
       "Rwanda                                          1    0.014624\n",
       "Vanuatu                                         1    0.014624\n",
       "Liberia                                         1    0.014624\n",
       "Papua New Guinea                                1    0.014624\n",
       "Aruba                                           1    0.014624\n",
       "Gambia                                          1    0.014624\n",
       "Somalia                                         1    0.014624\n",
       "Jordan                                          1    0.014624\n",
       "Nambia                                          1    0.014624\n",
       "Channel Islands                                 1    0.014624\n",
       "Sudan                                           1    0.014624\n",
       "Kyrgyzstan                                      1    0.014624\n",
       "Anguilla                                        1    0.014624\n",
       "Botswana                                        1    0.014624\n",
       "Cameroon                                        1    0.014624\n",
       "Gibraltar                                       1    0.014624\n",
       "Qatar                                           1    0.014624\n",
       "Samoa                                           1    0.014624\n",
       "Angola                                          1    0.014624\n",
       "Guadeloupe                                      1    0.014624\n",
       "Trinidad & Tobago                               1    0.014624\n",
       "\n",
       "[137 rows x 2 columns]"
      ]
     },
     "execution_count": 18,
     "metadata": {},
     "output_type": "execute_result"
    }
   ],
   "source": [
    "pd.DataFrame(data = {'Absolute frequency': abs_freq, \n",
    "                     'Percentage': rel_freq}\n",
    "            )"
   ]
  },
  {
   "cell_type": "markdown",
   "metadata": {},
   "source": [
    "Whilst it is clear USA and India have the most respondents, we need to see other factors such as perhaps language and price preference to validate that we can offer a product to these people"
   ]
  },
  {
   "cell_type": "markdown",
   "metadata": {},
   "source": [
    "# Money for Learning\n",
    "\n",
    "The MoneyForLearning column describes in American dollars the amount of money spent by participants from the moment they started coding until the moment they completed the survey. Our company sells subscriptions at a price of $59 per month, and for this reason we're interested in finding out how much money each student spends per month.\n",
    "\n",
    "It also seems like a good idea to narrow down our analysis to only four countries: the US, India, the United Kingdom, and Canada.\n",
    "The reason for this is that they by far have the largest absolute frequency of repsondents and the English languge is recognised as an official langauge within these countries meaning our courses (which are written in english) will be accesible to them."
   ]
  },
  {
   "cell_type": "code",
   "execution_count": 19,
   "metadata": {
    "collapsed": true
   },
   "outputs": [],
   "source": [
    "#money spent per month = total money spend / months spend learning\n",
    "# we need to be careful dividing by 0"
   ]
  },
  {
   "cell_type": "code",
   "execution_count": 20,
   "metadata": {
    "collapsed": false
   },
   "outputs": [
    {
     "data": {
      "text/plain": [
       "0.0    235\n",
       "1.0    767\n",
       "2.0    669\n",
       "3.0    637\n",
       "4.0    367\n",
       "Name: MonthsProgramming, dtype: int64"
      ]
     },
     "execution_count": 20,
     "metadata": {},
     "output_type": "execute_result"
    }
   ],
   "source": [
    "non_nulls['MonthsProgramming'].value_counts().sort_index().head()"
   ]
  },
  {
   "cell_type": "markdown",
   "metadata": {},
   "source": [
    "We can see we have 235 respondents who haven't started learning to code yet,  To avoid dividing by 0, replace all the values of 0 with 1."
   ]
  },
  {
   "cell_type": "code",
   "execution_count": 21,
   "metadata": {
    "collapsed": false
   },
   "outputs": [],
   "source": [
    "non_nulls['MonthsProgramming'] = non_nulls['MonthsProgramming'].replace(to_replace=0,value=1)"
   ]
  },
  {
   "cell_type": "code",
   "execution_count": 22,
   "metadata": {
    "collapsed": false
   },
   "outputs": [
    {
     "data": {
      "text/plain": [
       "1.0    1002\n",
       "2.0     669\n",
       "3.0     637\n",
       "4.0     367\n",
       "5.0     279\n",
       "Name: MonthsProgramming, dtype: int64"
      ]
     },
     "execution_count": 22,
     "metadata": {},
     "output_type": "execute_result"
    }
   ],
   "source": [
    "non_nulls['MonthsProgramming'].value_counts().sort_index().head()"
   ]
  },
  {
   "cell_type": "code",
   "execution_count": 23,
   "metadata": {
    "collapsed": false
   },
   "outputs": [
    {
     "data": {
      "text/plain": [
       " 0.000000        3092\n",
       "NaN               675\n",
       " 50.000000        128\n",
       " 25.000000        120\n",
       " 16.666667        118\n",
       " 100.000000       118\n",
       " 33.333333        109\n",
       " 8.333333         105\n",
       " 20.000000         88\n",
       " 10.000000         83\n",
       " 83.333333         80\n",
       " 166.666667        67\n",
       " 12.500000         66\n",
       " 4.166667          65\n",
       " 5.000000          62\n",
       " 200.000000        53\n",
       " 500.000000        50\n",
       " 66.666667         47\n",
       " 41.666667         46\n",
       " 250.000000        44\n",
       " 1000.000000       43\n",
       " 3.333333          38\n",
       " 20.833333         37\n",
       " 125.000000        36\n",
       " 6.666667          35\n",
       " 2.500000          33\n",
       " 5.555556          31\n",
       " 150.000000        31\n",
       " 333.333333        31\n",
       " 11.111111         31\n",
       "                 ... \n",
       " 1.562500           1\n",
       " 29.000000          1\n",
       " 23.000000          1\n",
       " 19.000000          1\n",
       " 31.000000          1\n",
       " 3.625000           1\n",
       " 4.750000           1\n",
       " 92.000000          1\n",
       " 117.500000         1\n",
       " 4.687500           1\n",
       " 1142.857143        1\n",
       " 0.900000           1\n",
       " 866.666667         1\n",
       " 1.344086           1\n",
       " 1670.000000        1\n",
       " 4.857143           1\n",
       " 122.500000         1\n",
       " 370.000000         1\n",
       " 1.052632           1\n",
       " 1.818182           1\n",
       " 3.472222           1\n",
       " 1.190476           1\n",
       " 1.612903           1\n",
       " 7.777778           1\n",
       " 17.833333          1\n",
       " 3.076923           1\n",
       " 10.833333          1\n",
       " 30000.000000       1\n",
       " 312.500000         1\n",
       " 611.111111         1\n",
       "Name: MoneySpentPerMonth, Length: 494, dtype: int64"
      ]
     },
     "execution_count": 23,
     "metadata": {},
     "output_type": "execute_result"
    }
   ],
   "source": [
    "non_nulls.loc[:,'MoneySpentPerMonth'] = non_nulls.loc[:,'MoneyForLearning']/non_nulls.loc[:,'MonthsProgramming']\n",
    "non_nulls['MoneySpentPerMonth'].value_counts(dropna=False)"
   ]
  },
  {
   "cell_type": "markdown",
   "metadata": {
    "collapsed": false
   },
   "source": [
    "We dont need to keep the rows which have a null value for expenditure per month\n"
   ]
  },
  {
   "cell_type": "code",
   "execution_count": 24,
   "metadata": {
    "collapsed": true
   },
   "outputs": [],
   "source": [
    "non_nulls = non_nulls[non_nulls['MoneySpentPerMonth'].notnull()]"
   ]
  },
  {
   "cell_type": "code",
   "execution_count": 25,
   "metadata": {
    "collapsed": false
   },
   "outputs": [],
   "source": [
    "non_nulls = non_nulls[non_nulls['CountryLive'].notnull()]"
   ]
  },
  {
   "cell_type": "code",
   "execution_count": 26,
   "metadata": {
    "collapsed": false
   },
   "outputs": [
    {
     "data": {
      "text/plain": [
       "CountryLive\n",
       "United States of America    227.997996\n",
       "India                       135.100982\n",
       "United Kingdom               45.534443\n",
       "Canada                      113.510961\n",
       "Name: MoneySpentPerMonth, dtype: float64"
      ]
     },
     "execution_count": 26,
     "metadata": {},
     "output_type": "execute_result"
    }
   ],
   "source": [
    "country_means = non_nulls.groupby(['CountryLive']).mean()\n",
    "country_means.loc[['United States of America',\n",
    "                            'India', 'United Kingdom',\n",
    "                            'Canada'],'MoneySpentPerMonth']"
   ]
  },
  {
   "cell_type": "markdown",
   "metadata": {
    "collapsed": true
   },
   "source": [
    "It seems people within the UK are not prepared to spend much money at all in comparison to USA, india and Canada. Maybe there are some outliers within the data which cause Usa/india/canada to be infalted or maybe we dont have much data for the united kingdom"
   ]
  },
  {
   "cell_type": "markdown",
   "metadata": {},
   "source": [
    "# Outliers"
   ]
  },
  {
   "cell_type": "code",
   "execution_count": 39,
   "metadata": {
    "collapsed": false
   },
   "outputs": [],
   "source": [
    "data = non_nulls[non_nulls['CountryLive'].isin(['United States of America','India','Canada','United Kingdom'])]\n",
    "                \n"
   ]
  },
  {
   "cell_type": "code",
   "execution_count": 34,
   "metadata": {
    "collapsed": false
   },
   "outputs": [],
   "source": [
    "usa = non_nulls[non_nulls['CountryLive'] == 'United States of America']\n",
    "india = non_nulls[non_nulls['CountryLive'] == 'India']\n",
    "uk = non_nulls[non_nulls['CountryLive'] == 'United Kingdom']\n",
    "canada = non_nulls[non_nulls['CountryLive'] == 'Canada']"
   ]
  },
  {
   "cell_type": "code",
   "execution_count": null,
   "metadata": {
    "collapsed": true
   },
   "outputs": [],
   "source": [
    "fig, ax = plt.subplots()\n",
    "ax.boxplot([])"
   ]
  },
  {
   "cell_type": "code",
   "execution_count": 48,
   "metadata": {
    "collapsed": false
   },
   "outputs": [
    {
     "data": {
      "text/plain": [
       "<matplotlib.axes._subplots.AxesSubplot at 0x7f6f1134e780>"
      ]
     },
     "execution_count": 48,
     "metadata": {},
     "output_type": "execute_result"
    },
    {
     "data": {
      "image/png": "[encoded data removed]",
      "text/plain": [
       "<matplotlib.figure.Figure at 0x7f6f113467b8>"
      ]
     },
     "metadata": {},
     "output_type": "display_data"
    }
   ],
   "source": [
    "data.boxplot(figsize=(10,10),column='MoneySpentPerMonth', by='CountryLive')"
   ]
  },
  {
   "cell_type": "markdown",
   "metadata": {},
   "source": [
    "It's clear there are some seriously high numbers for usa, the graph suggests somebody spends 50000 dollars a month on online learning which is unrealisitc. India has an outlier spending 10000 which is also unrealistc whereas the uk has no outliers that significant. This would explain the differences"
   ]
  },
  {
   "cell_type": "code",
   "execution_count": 49,
   "metadata": {
    "collapsed": false
   },
   "outputs": [
    {
     "data": {
      "text/plain": [
       "United States of America    2933\n",
       "India                        463\n",
       "United Kingdom               279\n",
       "Canada                       240\n",
       "Name: CountryLive, dtype: int64"
      ]
     },
     "execution_count": 49,
     "metadata": {},
     "output_type": "execute_result"
    }
   ],
   "source": [
    "data['CountryLive'].value_counts()"
   ]
  },
  {
   "cell_type": "markdown",
   "metadata": {},
   "source": [
    "There are significantly more respondents from the USA"
   ]
  },
  {
   "cell_type": "markdown",
   "metadata": {},
   "source": [
    "People spending over 2000 a month on online learning is clearly not representative as a whole and so it wont do any harm to remove those outliers "
   ]
  },
  {
   "cell_type": "code",
   "execution_count": 50,
   "metadata": {
    "collapsed": true
   },
   "outputs": [],
   "source": [
    "data = data[data['MoneySpentPerMonth'] < 2000]"
   ]
  },
  {
   "cell_type": "code",
   "execution_count": 53,
   "metadata": {
    "collapsed": false
   },
   "outputs": [
    {
     "data": {
      "text/plain": [
       "CountryLive\n",
       "Canada                      75.550481\n",
       "India                       57.256604\n",
       "United Kingdom              45.534443\n",
       "United States of America    82.847724\n",
       "Name: MoneySpentPerMonth, dtype: float64"
      ]
     },
     "execution_count": 53,
     "metadata": {},
     "output_type": "execute_result"
    }
   ],
   "source": [
    "country_means = data.groupby(['CountryLive']).mean()\n",
    "country_means['MoneySpentPerMonth']"
   ]
  },
  {
   "cell_type": "markdown",
   "metadata": {},
   "source": [
    "that's more like it. Lets' also see if we can figure out why some people spent so much money"
   ]
  },
  {
   "cell_type": "code",
   "execution_count": 58,
   "metadata": {
    "collapsed": false
   },
   "outputs": [
    {
     "data": {
      "text/plain": [
       "1.0    52\n",
       "0.0    41\n",
       "Name: AttendedBootcamp, dtype: int64"
      ]
     },
     "execution_count": 58,
     "metadata": {},
     "output_type": "execute_result"
    }
   ],
   "source": [
    "non_nulls.loc[non_nulls['MoneySpentPerMonth'] > 2000, 'AttendedBootcamp'].value_counts()"
   ]
  },
  {
   "cell_type": "markdown",
   "metadata": {},
   "source": [
    "More than half the people who spent a lot of money attended a bootcamp of some description. This is really the only factor within the data which could explain such high expenditure"
   ]
  },
  {
   "cell_type": "code",
   "execution_count": null,
   "metadata": {
    "collapsed": true
   },
   "outputs": [],
   "source": []
  }
 ],
 "metadata": {
  "kernelspec": {
   "display_name": "Python 3",
   "language": "python",
   "name": "python3"
  },
  "language_info": {
   "codemirror_mode": {
    "name": "ipython",
    "version": 3
   },
   "file_extension": ".py",
   "mimetype": "text/x-python",
   "name": "python",
   "nbconvert_exporter": "python",
   "pygments_lexer": "ipython3",
   "version": "3.4.3"
  }
 },
 "nbformat": 4,
 "nbformat_minor": 2
}
